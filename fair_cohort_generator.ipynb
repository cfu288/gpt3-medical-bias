{
 "cells": [
  {
   "cell_type": "markdown",
   "id": "eba7cec5-2537-46f5-8eec-2279e0bea3f4",
   "metadata": {},
   "source": [
    "# Fair Cohort Generator\n",
    "\n",
    "Earlier experiments revealed that GPT is sensitive to the perceived gender of a name and the perceived age of a name.\n",
    "\n",
    "This is a new attempt to generate new people with equally distributed genders and ages that is realistic based on underlying census data.\n",
    "\n",
    "Once the people are created, we can create cohorts with a similar distribution in ages and genders."
   ]
  },
  {
   "cell_type": "code",
   "execution_count": null,
   "id": "d88fc204-f397-4e95-9c07-cf014a9b9d7d",
   "metadata": {},
   "outputs": [],
   "source": [
    "# Next, we need to select patients for the aa and ca cohorts that have a similar distribution of age and gender\n",
    "# Need to investigate Causal Inference in Python\n",
    "# https://causalinferenceinpython.org/#main-features\n",
    "# and propensity score matching\n",
    "# https://nbviewer.org/github/kellieotto/StatMoments/blob/master/PSM.ipynb"
   ]
  }
 ],
 "metadata": {
  "kernelspec": {
   "display_name": "Python 3 (ipykernel)",
   "language": "python",
   "name": "python3"
  },
  "language_info": {
   "codemirror_mode": {
    "name": "ipython",
    "version": 3
   },
   "file_extension": ".py",
   "mimetype": "text/x-python",
   "name": "python",
   "nbconvert_exporter": "python",
   "pygments_lexer": "ipython3",
   "version": "3.11.3"
  }
 },
 "nbformat": 4,
 "nbformat_minor": 5
}
