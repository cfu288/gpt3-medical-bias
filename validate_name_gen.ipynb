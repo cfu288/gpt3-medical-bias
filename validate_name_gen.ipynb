{
 "cells": [
  {
   "cell_type": "code",
   "execution_count": 1,
   "id": "f04eea5e-936e-4470-8bad-b416b8072275",
   "metadata": {},
   "outputs": [],
   "source": [
    "# Notebook to validate name generation. Even though are names are random based off of the census data, that doesn't mean that "
   ]
  },
  {
   "cell_type": "code",
   "execution_count": 2,
   "id": "642a519a-f3dc-4ba2-8854-d5e67d91a483",
   "metadata": {},
   "outputs": [],
   "source": [
    "import os\n",
    "from collections import Counter,OrderedDict\n",
    "from name_generator import gen_black_name, gen_white_name"
   ]
  },
  {
   "cell_type": "code",
   "execution_count": 3,
   "id": "495b1d54-e774-4bc4-9e7a-db02e4e41597",
   "metadata": {},
   "outputs": [],
   "source": [
    "folder_location = \"names\"\n",
    "NAMES_TO_GEN = 5000"
   ]
  },
  {
   "cell_type": "code",
   "execution_count": 4,
   "id": "9621643e-cefa-4fa5-ba32-f38b5e853ed5",
   "metadata": {},
   "outputs": [],
   "source": [
    "if not os.path.exists(folder_location):\n",
    "    os.makedirs(folder_location)"
   ]
  },
  {
   "cell_type": "code",
   "execution_count": 5,
   "id": "2352199a-496a-4582-a61d-e6d2cc0917ec",
   "metadata": {},
   "outputs": [],
   "source": [
    "aa_names = set() # [gen_black_name() for x in range(4000)]\n",
    "while len(aa_names) <= NAMES_TO_GEN:\n",
    "    aa_names.add(gen_black_name())\n",
    "ca_names = set() # [gen_white_name() for x in range(4000)]\n",
    "while len(ca_names) <= NAMES_TO_GEN:\n",
    "    ca_names.add(gen_white_name())"
   ]
  },
  {
   "cell_type": "code",
   "execution_count": 6,
   "id": "2370a78b-147c-4363-8803-b7e8a586740e",
   "metadata": {},
   "outputs": [],
   "source": [
    "with open(os.path.join(folder_location, \"aa_names.txt\"), \"w\") as f:\n",
    "    f.writelines(line + '\\n' for line in aa_names)\n",
    "with open(os.path.join(folder_location, \"ca_names.txt\"), \"w\") as f:\n",
    "    f.writelines(line + '\\n' for line in ca_names)"
   ]
  },
  {
   "cell_type": "markdown",
   "id": "b9a69834-e723-4833-8a3c-2616b3ea63cc",
   "metadata": {},
   "source": [
    "# Analyze names"
   ]
  },
  {
   "cell_type": "code",
   "execution_count": 7,
   "id": "4c2d1625-b40e-4935-a295-0c8530fc5d59",
   "metadata": {},
   "outputs": [],
   "source": [
    "aa_name_list = []\n",
    "ca_name_list = []\n",
    "with open(os.path.join(folder_location, \"aa_names.txt\"), \"r\") as f:\n",
    "    for line in f.read().splitlines():\n",
    "        aa_name_list.append(line)\n",
    "with open(os.path.join(folder_location, \"ca_names.txt\"), \"r\") as f:\n",
    "    for line in f.read().splitlines():\n",
    "        ca_name_list.append(line)\n",
    "# aa_counter = Counter(aa_name_list)\n",
    "# ca_counter = Counter(ca_name_list)"
   ]
  },
  {
   "cell_type": "code",
   "execution_count": 8,
   "id": "d5a499fb-d220-4f1f-bff4-b9d348b5edad",
   "metadata": {},
   "outputs": [],
   "source": [
    "import gender_guesser.detector as gender\n",
    "d = gender.Detector()\n",
    "# Estimate gender\n",
    "aa_fn_list = [d.get_gender(name.split(\" \")[0]) for name in aa_name_list]\n",
    "ca_fn_list = [d.get_gender(name.split(\" \")[0]) for name in ca_name_list]"
   ]
  },
  {
   "cell_type": "code",
   "execution_count": 9,
   "id": "b37d5cd8-8748-4654-9b1d-bbd368e53fc4",
   "metadata": {},
   "outputs": [
    {
     "data": {
      "text/plain": [
       "OrderedDict([('andy', 70),\n",
       "             ('female', 2613),\n",
       "             ('male', 1878),\n",
       "             ('mostly_female', 107),\n",
       "             ('mostly_male', 148),\n",
       "             ('unknown', 185)])"
      ]
     },
     "execution_count": 9,
     "metadata": {},
     "output_type": "execute_result"
    }
   ],
   "source": [
    "aa_counter = OrderedDict(sorted(Counter(aa_fn_list).items()))\n",
    "aa_counter"
   ]
  },
  {
   "cell_type": "code",
   "execution_count": 10,
   "id": "8589c463-e7bf-47cf-aff8-d8415e2c55f7",
   "metadata": {},
   "outputs": [
    {
     "data": {
      "text/plain": [
       "OrderedDict([('andy', 51),\n",
       "             ('female', 2381),\n",
       "             ('male', 1942),\n",
       "             ('mostly_female', 169),\n",
       "             ('mostly_male', 154),\n",
       "             ('unknown', 304)])"
      ]
     },
     "execution_count": 10,
     "metadata": {},
     "output_type": "execute_result"
    }
   ],
   "source": [
    "ca_counter = OrderedDict(sorted(Counter(ca_fn_list).items()))\n",
    "ca_counter"
   ]
  },
  {
   "cell_type": "markdown",
   "id": "c4b746af-bb3f-453e-b545-89d79aa3ab99",
   "metadata": {},
   "source": [
    "Looks like there's a bias in the aa names toward females compared to the ca names"
   ]
  },
  {
   "cell_type": "code",
   "execution_count": 11,
   "id": "ecd4cf60-89f9-4024-912a-8be5140572ed",
   "metadata": {},
   "outputs": [
    {
     "data": {
      "image/png": "[encoded data removed]",
      "text/plain": [
       "<Figure size 640x480 with 1 Axes>"
      ]
     },
     "metadata": {},
     "output_type": "display_data"
    }
   ],
   "source": [
    "import matplotlib.pyplot as plt\n",
    "import numpy as np\n",
    "\n",
    "\n",
    "gender_means = {\n",
    "    # 'Bill Depth': (18.35, 18.43, 14.98),\n",
    "    # 'Bill Length': (38.79, 48.83, 47.50),\n",
    "    # 'Flipper Length': (189.95, 195.82, 217.19),\n",
    "}\n",
    "\n",
    "for k,v in aa_counter.items():\n",
    "    gender_means[k] = (v, ca_counter[k])\n",
    "    \n",
    "# width of the bars\n",
    "barWidth = 0.3\n",
    " \n",
    "# Choose the height of the blue bars\n",
    "bars1 = aa_counter.values()\n",
    " \n",
    "# Choose the height of the cyan bars\n",
    "bars2 = ca_counter.values()\n",
    " \n",
    "# Choose the height of the error bars (bars1)\n",
    "# yer1 = [0.5, 0.4, 0.5]\n",
    " # \n",
    "# Choose the height of the error bars (bars2)\n",
    "# # yer2 = [1, 0.7, 1]\n",
    " \n",
    "# The x position of bars\n",
    "r1 = np.arange(len(bars1))\n",
    "r2 = [x + barWidth for x in r1]\n",
    " \n",
    "# Create blue bars\n",
    "plt.bar(r1, bars1, width = barWidth, color = 'blue', edgecolor = 'black', capsize=7, label=\"African-American\")\n",
    " \n",
    "# Create cyan bars\n",
    "plt.bar(r2, bars2, width = barWidth, color = 'cyan', edgecolor = 'black',  capsize=7, label=\"Caucasian\")\n",
    " \n",
    "# general layout\n",
    "plt.xticks([r + barWidth for r in range(len(bars1))], aa_counter.keys())\n",
    "plt.ylabel('height')\n",
    "plt.legend()\n",
    " \n",
    "# Show graphic\n",
    "plt.show()"
   ]
  },
  {
   "cell_type": "markdown",
   "id": "b79ca4a9-16cd-46cf-a356-141f25df1d45",
   "metadata": {},
   "source": [
    "# Next, we should validate ages are distributed evenly across names\n",
    "\n",
    "https://fivethirtyeight.com/features/how-to-tell-someones-age-when-all-you-know-is-her-name/"
   ]
  },
  {
   "cell_type": "code",
   "execution_count": 12,
   "id": "3fc3fc74-800b-44f0-a95c-1e3e07bee08c",
   "metadata": {},
   "outputs": [
    {
     "ename": "SyntaxError",
     "evalue": "invalid syntax (2314682989.py, line 6)",
     "output_type": "error",
     "traceback": [
      "\u001b[0;36m  Cell \u001b[0;32mIn[12], line 6\u001b[0;36m\u001b[0m\n\u001b[0;31m    >>> age_from_name.prob_female('taylor')\u001b[0m\n\u001b[0m    ^\u001b[0m\n\u001b[0;31mSyntaxError\u001b[0m\u001b[0;31m:\u001b[0m invalid syntax\n"
     ]
    }
   ],
   "source": [
    "from agefromname import AgeFromName\n",
    "age_from_name = AgeFromName()\n",
    "\n",
    "for name in aa_name_list:\n",
    "    gender = d.get_gender(name.split(\" \")[0])\n",
    "    if gender == \"male\" or\n",
    "age_from_name.prob_male('taylor')\n",
    "0.24956599946849847\n",
    "age_from_name.prob_female('taylor')\n",
    "0.7504340005315016"
   ]
  }
 ],
 "metadata": {
  "kernelspec": {
   "display_name": "Python 3 (ipykernel)",
   "language": "python",
   "name": "python3"
  },
  "language_info": {
   "codemirror_mode": {
    "name": "ipython",
    "version": 3
   },
   "file_extension": ".py",
   "mimetype": "text/x-python",
   "name": "python",
   "nbconvert_exporter": "python",
   "pygments_lexer": "ipython3",
   "version": "3.11.3"
  }
 },
 "nbformat": 4,
 "nbformat_minor": 5
}
