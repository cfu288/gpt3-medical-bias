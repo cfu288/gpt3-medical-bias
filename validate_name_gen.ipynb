{
 "cells": [
  {
   "cell_type": "code",
   "execution_count": 1,
   "id": "f04eea5e-936e-4470-8bad-b416b8072275",
   "metadata": {},
   "outputs": [],
   "source": [
    "# Notebook to validate name generation. Even though are names are random based off of the census data, that doesn't mean that "
   ]
  },
  {
   "cell_type": "code",
   "execution_count": 2,
   "id": "642a519a-f3dc-4ba2-8854-d5e67d91a483",
   "metadata": {},
   "outputs": [],
   "source": [
    "import os\n",
    "from collections import Counter,OrderedDict\n",
    "from name_generator import gen_black_name, gen_white_name"
   ]
  },
  {
   "cell_type": "code",
   "execution_count": 3,
   "id": "495b1d54-e774-4bc4-9e7a-db02e4e41597",
   "metadata": {},
   "outputs": [],
   "source": [
    "folder_location = \"names\"\n",
    "NAMES_TO_GEN = 5000"
   ]
  },
  {
   "cell_type": "code",
   "execution_count": 4,
   "id": "9621643e-cefa-4fa5-ba32-f38b5e853ed5",
   "metadata": {},
   "outputs": [],
   "source": [
    "if not os.path.exists(folder_location):\n",
    "    os.makedirs(folder_location)"
   ]
  },
  {
   "cell_type": "code",
   "execution_count": 5,
   "id": "2352199a-496a-4582-a61d-e6d2cc0917ec",
   "metadata": {},
   "outputs": [],
   "source": [
    "aa_names = set() # [gen_black_name() for x in range(4000)]\n",
    "while len(aa_names) <= NAMES_TO_GEN:\n",
    "    aa_names.add(gen_black_name())\n",
    "ca_names = set() # [gen_white_name() for x in range(4000)]\n",
    "while len(ca_names) <= NAMES_TO_GEN:\n",
    "    ca_names.add(gen_white_name())"
   ]
  },
  {
   "cell_type": "code",
   "execution_count": 6,
   "id": "2370a78b-147c-4363-8803-b7e8a586740e",
   "metadata": {},
   "outputs": [],
   "source": [
    "with open(os.path.join(folder_location, \"aa_names.txt\"), \"w\") as f:\n",
    "    f.writelines(line + '\\n' for line in aa_names)\n",
    "with open(os.path.join(folder_location, \"ca_names.txt\"), \"w\") as f:\n",
    "    f.writelines(line + '\\n' for line in ca_names)"
   ]
  },
  {
   "cell_type": "markdown",
   "id": "b9a69834-e723-4833-8a3c-2616b3ea63cc",
   "metadata": {},
   "source": [
    "# Analyze names"
   ]
  },
  {
   "cell_type": "code",
   "execution_count": 7,
   "id": "4c2d1625-b40e-4935-a295-0c8530fc5d59",
   "metadata": {},
   "outputs": [],
   "source": [
    "aa_name_list = []\n",
    "ca_name_list = []\n",
    "with open(os.path.join(folder_location, \"aa_names.txt\"), \"r\") as f:\n",
    "    for line in f.read().splitlines():\n",
    "        aa_name_list.append(line)\n",
    "with open(os.path.join(folder_location, \"ca_names.txt\"), \"r\") as f:\n",
    "    for line in f.read().splitlines():\n",
    "        ca_name_list.append(line)\n",
    "# aa_counter = Counter(aa_name_list)\n",
    "# ca_counter = Counter(ca_name_list)"
   ]
  },
  {
   "cell_type": "code",
   "execution_count": 8,
   "id": "d5a499fb-d220-4f1f-bff4-b9d348b5edad",
   "metadata": {},
   "outputs": [],
   "source": [
    "import gender_guesser.detector as gender\n",
    "d = gender.Detector()\n",
    "# Estimate gender\n",
    "aa_fn_list = [d.get_gender(name.split(\" \")[0]) for name in aa_name_list]\n",
    "ca_fn_list = [d.get_gender(name.split(\" \")[0]) for name in ca_name_list]"
   ]
  },
  {
   "cell_type": "code",
   "execution_count": 9,
   "id": "b37d5cd8-8748-4654-9b1d-bbd368e53fc4",
   "metadata": {},
   "outputs": [
    {
     "data": {
      "text/plain": [
       "OrderedDict([('andy', 84),\n",
       "             ('female', 2665),\n",
       "             ('male', 1821),\n",
       "             ('mostly_female', 122),\n",
       "             ('mostly_male', 142),\n",
       "             ('unknown', 167)])"
      ]
     },
     "execution_count": 9,
     "metadata": {},
     "output_type": "execute_result"
    }
   ],
   "source": [
    "aa_counter = OrderedDict(sorted(Counter(aa_fn_list).items()))\n",
    "aa_counter"
   ]
  },
  {
   "cell_type": "code",
   "execution_count": 10,
   "id": "8589c463-e7bf-47cf-aff8-d8415e2c55f7",
   "metadata": {},
   "outputs": [
    {
     "data": {
      "text/plain": [
       "OrderedDict([('andy', 82),\n",
       "             ('female', 2301),\n",
       "             ('male', 1954),\n",
       "             ('mostly_female', 172),\n",
       "             ('mostly_male', 175),\n",
       "             ('unknown', 317)])"
      ]
     },
     "execution_count": 10,
     "metadata": {},
     "output_type": "execute_result"
    }
   ],
   "source": [
    "ca_counter = OrderedDict(sorted(Counter(ca_fn_list).items()))\n",
    "ca_counter"
   ]
  },
  {
   "cell_type": "markdown",
   "id": "c4b746af-bb3f-453e-b545-89d79aa3ab99",
   "metadata": {},
   "source": [
    "Looks like there's a bias in the aa names toward females compared to the ca names"
   ]
  },
  {
   "cell_type": "code",
   "execution_count": 11,
   "id": "ecd4cf60-89f9-4024-912a-8be5140572ed",
   "metadata": {},
   "outputs": [
    {
     "data": {
      "image/png": "[encoded data removed]",
      "text/plain": [
       "<Figure size 640x480 with 1 Axes>"
      ]
     },
     "metadata": {},
     "output_type": "display_data"
    }
   ],
   "source": [
    "import matplotlib.pyplot as plt\n",
    "import numpy as np\n",
    "\n",
    "\n",
    "gender_means = {\n",
    "    # 'Bill Depth': (18.35, 18.43, 14.98),\n",
    "    # 'Bill Length': (38.79, 48.83, 47.50),\n",
    "    # 'Flipper Length': (189.95, 195.82, 217.19),\n",
    "}\n",
    "\n",
    "for k,v in aa_counter.items():\n",
    "    gender_means[k] = (v, ca_counter[k])\n",
    "    \n",
    "# width of the bars\n",
    "barWidth = 0.3\n",
    " \n",
    "# Choose the height of the blue bars\n",
    "bars1 = aa_counter.values()\n",
    " \n",
    "# Choose the height of the cyan bars\n",
    "bars2 = ca_counter.values()\n",
    " \n",
    "# Choose the height of the error bars (bars1)\n",
    "# yer1 = [0.5, 0.4, 0.5]\n",
    " # \n",
    "# Choose the height of the error bars (bars2)\n",
    "# # yer2 = [1, 0.7, 1]\n",
    " \n",
    "# The x position of bars\n",
    "r1 = np.arange(len(bars1))\n",
    "r2 = [x + barWidth for x in r1]\n",
    " \n",
    "# Create blue bars\n",
    "plt.bar(r1, bars1, width = barWidth, color = 'blue', edgecolor = 'black', capsize=7, label=\"African-American\")\n",
    " \n",
    "# Create cyan bars\n",
    "plt.bar(r2, bars2, width = barWidth, color = 'cyan', edgecolor = 'black',  capsize=7, label=\"Caucasian\")\n",
    " \n",
    "# general layout\n",
    "plt.xticks([r + barWidth for r in range(len(bars1))], aa_counter.keys())\n",
    "plt.ylabel('height')\n",
    "plt.legend()\n",
    " \n",
    "# Show graphic\n",
    "plt.show()"
   ]
  },
  {
   "cell_type": "markdown",
   "id": "b79ca4a9-16cd-46cf-a356-141f25df1d45",
   "metadata": {},
   "source": [
    "# Next, we should validate ages are distributed evenly across names\n",
    "\n",
    "https://fivethirtyeight.com/features/how-to-tell-someones-age-when-all-you-know-is-her-name/"
   ]
  },
  {
   "cell_type": "code",
   "execution_count": 12,
   "id": "3fc3fc74-800b-44f0-a95c-1e3e07bee08c",
   "metadata": {},
   "outputs": [],
   "source": [
    "from agefromname import AgeFromName\n",
    "from main import print_progress_bar\n",
    "import pandas as pd\n",
    "import datetime\n",
    "age_from_name = AgeFromName()"
   ]
  },
  {
   "cell_type": "code",
   "execution_count": 13,
   "id": "b558bf17-c426-411a-ac68-3f463eb87155",
   "metadata": {},
   "outputs": [
    {
     "name": "stdout",
     "output_type": "stream",
     "text": [
      "Progress: |██████████████████████████████████████████████████| 100.0% Complete\n"
     ]
    }
   ],
   "source": [
    "# This isn't a validated approach to guessing age, its just a starting point to just get an idea\n",
    "aa_ages = []\n",
    "tmp = aa_name_list\n",
    "print_progress_bar(0, len(tmp), prefix=\"Progress:\", suffix=\"Complete\", length=50)\n",
    "for idx, name in enumerate(tmp):\n",
    "    first_name = name.split(\" \")[0]\n",
    "    print_progress_bar(idx+1, len(tmp), prefix=\"Progress:\", suffix=\"Complete\", length=50)\n",
    "    gender = d.get_gender(first_name)\n",
    "    age_dist = pd.Series() # empty\n",
    "    if gender == \"male\" or gender == \"mostly_male\":\n",
    "        age_dist = age_from_name.get_estimated_distribution(first_name, \"m\")\n",
    "    if gender == \"female\" or gender == \"mostly_female\":\n",
    "        age_dist = age_from_name.get_estimated_distribution(first_name, \"f\")\n",
    "    if age_dist.any():\n",
    "        today = datetime.date.today()\n",
    "        # voter data, min age 18\n",
    "        age_dist = age_dist[age_dist.index <= 2005]\n",
    "        if age_dist.any():\n",
    "            est_age = today.year - age_dist.idxmax()\n",
    "            aa_ages.append(est_age)"
   ]
  },
  {
   "cell_type": "code",
   "execution_count": 14,
   "id": "6c6a95aa-9e83-4d84-871d-69bd0a522453",
   "metadata": {},
   "outputs": [
    {
     "name": "stdout",
     "output_type": "stream",
     "text": [
      "Progress: |██████████████████████████████████████████████████| 100.0% Complete\n"
     ]
    }
   ],
   "source": [
    "ca_ages = []\n",
    "tmp = ca_name_list\n",
    "print_progress_bar(0, len(tmp), prefix=\"Progress:\", suffix=\"Complete\", length=50)\n",
    "for idx, name in enumerate(tmp):\n",
    "    first_name = name.split(\" \")[0]\n",
    "    print_progress_bar(idx+1, len(tmp), prefix=\"Progress:\", suffix=\"Complete\", length=50)\n",
    "    gender = d.get_gender(first_name)\n",
    "    age_dist = pd.Series() # empty\n",
    "    if gender == \"male\" or gender == \"mostly_male\":\n",
    "        age_dist = age_from_name.get_estimated_distribution(first_name, \"m\")\n",
    "    if gender == \"female\" or gender == \"mostly_female\":\n",
    "        age_dist = age_from_name.get_estimated_distribution(first_name, \"f\")\n",
    "    if age_dist.any():\n",
    "        today = datetime.date.today()\n",
    "        # voter data, min age 18\n",
    "        age_dist = age_dist[age_dist.index <= 2005]\n",
    "        if age_dist.any():\n",
    "            est_age = today.year - age_dist.idxmax()\n",
    "            ca_ages.append(est_age)"
   ]
  },
  {
   "cell_type": "code",
   "execution_count": 15,
   "id": "a93cbbb6-c5ec-4229-af0c-ad5fd28abf69",
   "metadata": {},
   "outputs": [],
   "source": [
    "aa_df = pd.DataFrame(aa_ages, columns =['aa_names'])\n",
    "ca_df = pd.DataFrame(ca_ages, columns =['ca_names'])"
   ]
  },
  {
   "cell_type": "code",
   "execution_count": 16,
   "id": "6179131a-d935-499b-99b8-09c6248b54e4",
   "metadata": {},
   "outputs": [
    {
     "data": {
      "text/html": [
       "<div>\n",
       "<style scoped>\n",
       "    .dataframe tbody tr th:only-of-type {\n",
       "        vertical-align: middle;\n",
       "    }\n",
       "\n",
       "    .dataframe tbody tr th {\n",
       "        vertical-align: top;\n",
       "    }\n",
       "\n",
       "    .dataframe thead th {\n",
       "        text-align: right;\n",
       "    }\n",
       "</style>\n",
       "<table border=\"1\" class=\"dataframe\">\n",
       "  <thead>\n",
       "    <tr style=\"text-align: right;\">\n",
       "      <th></th>\n",
       "      <th>aa_names</th>\n",
       "    </tr>\n",
       "  </thead>\n",
       "  <tbody>\n",
       "    <tr>\n",
       "      <th>count</th>\n",
       "      <td>4746.000000</td>\n",
       "    </tr>\n",
       "    <tr>\n",
       "      <th>mean</th>\n",
       "      <td>50.526127</td>\n",
       "    </tr>\n",
       "    <tr>\n",
       "      <th>std</th>\n",
       "      <td>20.156361</td>\n",
       "    </tr>\n",
       "    <tr>\n",
       "      <th>min</th>\n",
       "      <td>18.000000</td>\n",
       "    </tr>\n",
       "    <tr>\n",
       "      <th>25%</th>\n",
       "      <td>33.000000</td>\n",
       "    </tr>\n",
       "    <tr>\n",
       "      <th>50%</th>\n",
       "      <td>53.000000</td>\n",
       "    </tr>\n",
       "    <tr>\n",
       "      <th>75%</th>\n",
       "      <td>68.000000</td>\n",
       "    </tr>\n",
       "    <tr>\n",
       "      <th>max</th>\n",
       "      <td>89.000000</td>\n",
       "    </tr>\n",
       "  </tbody>\n",
       "</table>\n",
       "</div>"
      ],
      "text/plain": [
       "          aa_names\n",
       "count  4746.000000\n",
       "mean     50.526127\n",
       "std      20.156361\n",
       "min      18.000000\n",
       "25%      33.000000\n",
       "50%      53.000000\n",
       "75%      68.000000\n",
       "max      89.000000"
      ]
     },
     "execution_count": 16,
     "metadata": {},
     "output_type": "execute_result"
    }
   ],
   "source": [
    "aa_df.describe()"
   ]
  },
  {
   "cell_type": "code",
   "execution_count": 17,
   "id": "1f9d4dc9-50e3-44f5-a0ee-bdab9426dd41",
   "metadata": {},
   "outputs": [
    {
     "data": {
      "text/html": [
       "<div>\n",
       "<style scoped>\n",
       "    .dataframe tbody tr th:only-of-type {\n",
       "        vertical-align: middle;\n",
       "    }\n",
       "\n",
       "    .dataframe tbody tr th {\n",
       "        vertical-align: top;\n",
       "    }\n",
       "\n",
       "    .dataframe thead th {\n",
       "        text-align: right;\n",
       "    }\n",
       "</style>\n",
       "<table border=\"1\" class=\"dataframe\">\n",
       "  <thead>\n",
       "    <tr style=\"text-align: right;\">\n",
       "      <th></th>\n",
       "      <th>ca_names</th>\n",
       "    </tr>\n",
       "  </thead>\n",
       "  <tbody>\n",
       "    <tr>\n",
       "      <th>count</th>\n",
       "      <td>4539.000000</td>\n",
       "    </tr>\n",
       "    <tr>\n",
       "      <th>mean</th>\n",
       "      <td>45.575237</td>\n",
       "    </tr>\n",
       "    <tr>\n",
       "      <th>std</th>\n",
       "      <td>19.890140</td>\n",
       "    </tr>\n",
       "    <tr>\n",
       "      <th>min</th>\n",
       "      <td>18.000000</td>\n",
       "    </tr>\n",
       "    <tr>\n",
       "      <th>25%</th>\n",
       "      <td>25.000000</td>\n",
       "    </tr>\n",
       "    <tr>\n",
       "      <th>50%</th>\n",
       "      <td>47.000000</td>\n",
       "    </tr>\n",
       "    <tr>\n",
       "      <th>75%</th>\n",
       "      <td>64.000000</td>\n",
       "    </tr>\n",
       "    <tr>\n",
       "      <th>max</th>\n",
       "      <td>99.000000</td>\n",
       "    </tr>\n",
       "  </tbody>\n",
       "</table>\n",
       "</div>"
      ],
      "text/plain": [
       "          ca_names\n",
       "count  4539.000000\n",
       "mean     45.575237\n",
       "std      19.890140\n",
       "min      18.000000\n",
       "25%      25.000000\n",
       "50%      47.000000\n",
       "75%      64.000000\n",
       "max      99.000000"
      ]
     },
     "execution_count": 17,
     "metadata": {},
     "output_type": "execute_result"
    }
   ],
   "source": [
    "ca_df.describe()"
   ]
  },
  {
   "cell_type": "code",
   "execution_count": 18,
   "id": "1412ec45-af53-4f4b-9f62-bf86b7b5b3cc",
   "metadata": {},
   "outputs": [
    {
     "data": {
      "image/png": "[encoded data removed]",
      "text/plain": [
       "<Figure size 640x480 with 1 Axes>"
      ]
     },
     "metadata": {},
     "output_type": "display_data"
    }
   ],
   "source": [
    "import random\n",
    "import numpy\n",
    "from matplotlib import pyplot\n",
    "\n",
    "x = [aa_df[\"aa_names\"].tolist()]\n",
    "y = [ca_df[\"ca_names\"].tolist()]\n",
    "\n",
    "bins = numpy.linspace(18, 100)\n",
    "\n",
    "pyplot.hist(x, bins, alpha=0.5, label='aa')\n",
    "pyplot.hist(y, bins, alpha=0.5, label='ca')\n",
    "pyplot.legend(loc='upper right')\n",
    "pyplot.show()"
   ]
  },
  {
   "cell_type": "code",
   "execution_count": null,
   "id": "ca77c499-c37f-42f1-99eb-1bb8d27964ae",
   "metadata": {},
   "outputs": [],
   "source": []
  }
 ],
 "metadata": {
  "kernelspec": {
   "display_name": "Python 3 (ipykernel)",
   "language": "python",
   "name": "python3"
  },
  "language_info": {
   "codemirror_mode": {
    "name": "ipython",
    "version": 3
   },
   "file_extension": ".py",
   "mimetype": "text/x-python",
   "name": "python",
   "nbconvert_exporter": "python",
   "pygments_lexer": "ipython3",
   "version": "3.11.3"
  }
 },
 "nbformat": 4,
 "nbformat_minor": 5
}
