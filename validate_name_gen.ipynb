{
 "cells": [
  {
   "cell_type": "code",
   "execution_count": 1,
   "id": "f04eea5e-936e-4470-8bad-b416b8072275",
   "metadata": {},
   "outputs": [],
   "source": [
    "# Ensure both cohorts are matched in demographics after propensity score matching"
   ]
  },
  {
   "cell_type": "code",
   "execution_count": 2,
   "id": "642a519a-f3dc-4ba2-8854-d5e67d91a483",
   "metadata": {},
   "outputs": [],
   "source": [
    "import os\n",
    "from collections import Counter, OrderedDict\n",
    "from name_generator import gen_black_name, gen_white_name\n",
    "import pandas as pd\n",
    "import matplotlib.pyplot as plt\n",
    "import numpy as np"
   ]
  },
  {
   "cell_type": "code",
   "execution_count": 3,
   "id": "495b1d54-e774-4bc4-9e7a-db02e4e41597",
   "metadata": {},
   "outputs": [],
   "source": [
    "folder_location = \"cohort\""
   ]
  },
  {
   "cell_type": "markdown",
   "id": "b9a69834-e723-4833-8a3c-2616b3ea63cc",
   "metadata": {},
   "source": [
    "# Analyze names"
   ]
  },
  {
   "cell_type": "code",
   "execution_count": 4,
   "id": "4c2d1625-b40e-4935-a295-0c8530fc5d59",
   "metadata": {},
   "outputs": [],
   "source": [
    "aa_name_list = pd.read_csv(os.path.join(folder_location, \"aa_matched.csv\"))\n",
    "ca_name_list = pd.read_csv(os.path.join(folder_location, \"ca_matched.csv\"))"
   ]
  },
  {
   "cell_type": "code",
   "execution_count": 5,
   "id": "d5a499fb-d220-4f1f-bff4-b9d348b5edad",
   "metadata": {},
   "outputs": [],
   "source": [
    "aa_fn_list = aa_name_list[\"gender\"].tolist()\n",
    "ca_fn_list = ca_name_list[\"gender\"].tolist()"
   ]
  },
  {
   "cell_type": "code",
   "execution_count": 6,
   "id": "b9e076f1-8c75-477e-9f3f-7a2b6e6154d0",
   "metadata": {},
   "outputs": [
    {
     "data": {
      "text/plain": [
       "count     5000\n",
       "unique       2\n",
       "top          f\n",
       "freq      2918\n",
       "Name: gender, dtype: object"
      ]
     },
     "execution_count": 6,
     "metadata": {},
     "output_type": "execute_result"
    }
   ],
   "source": [
    "ca_name_list[\"gender\"].describe()"
   ]
  },
  {
   "cell_type": "code",
   "execution_count": 7,
   "id": "b37d5cd8-8748-4654-9b1d-bbd368e53fc4",
   "metadata": {},
   "outputs": [
    {
     "data": {
      "text/plain": [
       "OrderedDict([('f', 2955), ('m', 2045)])"
      ]
     },
     "execution_count": 7,
     "metadata": {},
     "output_type": "execute_result"
    }
   ],
   "source": [
    "aa_counter = OrderedDict(sorted(Counter(aa_fn_list).items()))\n",
    "aa_counter"
   ]
  },
  {
   "cell_type": "code",
   "execution_count": 8,
   "id": "8589c463-e7bf-47cf-aff8-d8415e2c55f7",
   "metadata": {},
   "outputs": [
    {
     "data": {
      "text/plain": [
       "OrderedDict([('f', 2918), ('m', 2082)])"
      ]
     },
     "execution_count": 8,
     "metadata": {},
     "output_type": "execute_result"
    }
   ],
   "source": [
    "ca_counter = OrderedDict(sorted(Counter(ca_fn_list).items()))\n",
    "ca_counter"
   ]
  },
  {
   "cell_type": "code",
   "execution_count": 9,
   "id": "ecd4cf60-89f9-4024-912a-8be5140572ed",
   "metadata": {},
   "outputs": [
    {
     "data": {
      "image/png": "[encoded data removed]",
      "text/plain": [
       "<Figure size 640x480 with 1 Axes>"
      ]
     },
     "metadata": {},
     "output_type": "display_data"
    }
   ],
   "source": [
    "gender_means = {}\n",
    "\n",
    "for k, v in aa_counter.items():\n",
    "    gender_means[k] = (v, ca_counter[k])\n",
    "\n",
    "# width of the bars\n",
    "barWidth = 0.3\n",
    "\n",
    "# Choose the height of the blue bars\n",
    "bars1 = aa_counter.values()\n",
    "\n",
    "# Choose the height of the cyan bars\n",
    "bars2 = ca_counter.values()\n",
    "\n",
    "# The x position of bars\n",
    "r1 = np.arange(len(bars1))\n",
    "r2 = [x + barWidth for x in r1]\n",
    "\n",
    "# Create blue bars\n",
    "plt.bar(\n",
    "    r1,\n",
    "    bars1,\n",
    "    width=barWidth,\n",
    "    color=\"blue\",\n",
    "    edgecolor=\"black\",\n",
    "    capsize=7,\n",
    "    label=\"African-American\",\n",
    ")\n",
    "\n",
    "# Create cyan bars\n",
    "plt.bar(\n",
    "    r2,\n",
    "    bars2,\n",
    "    width=barWidth,\n",
    "    color=\"cyan\",\n",
    "    edgecolor=\"black\",\n",
    "    capsize=7,\n",
    "    label=\"Caucasian\",\n",
    ")\n",
    "\n",
    "# general layout\n",
    "plt.xticks([r + barWidth for r in range(len(bars1))], aa_counter.keys())\n",
    "plt.ylabel(\"height\")\n",
    "plt.legend()\n",
    "\n",
    "# Show graphic\n",
    "plt.show()"
   ]
  },
  {
   "cell_type": "markdown",
   "id": "b79ca4a9-16cd-46cf-a356-141f25df1d45",
   "metadata": {},
   "source": [
    "# Next, we should validate ages are distributed evenly across names"
   ]
  },
  {
   "cell_type": "code",
   "execution_count": 10,
   "id": "3fc3fc74-800b-44f0-a95c-1e3e07bee08c",
   "metadata": {},
   "outputs": [],
   "source": [
    "from agefromname import AgeFromName\n",
    "from main import print_progress_bar\n",
    "import pandas as pd\n",
    "import datetime"
   ]
  },
  {
   "cell_type": "code",
   "execution_count": 11,
   "id": "b558bf17-c426-411a-ac68-3f463eb87155",
   "metadata": {},
   "outputs": [],
   "source": [
    "aa_ages = aa_name_list[\"age\"].tolist()\n",
    "ca_ages = ca_name_list[\"age\"].tolist()"
   ]
  },
  {
   "cell_type": "code",
   "execution_count": 12,
   "id": "a93cbbb6-c5ec-4229-af0c-ad5fd28abf69",
   "metadata": {},
   "outputs": [],
   "source": [
    "aa_df = pd.DataFrame(aa_ages, columns=[\"aa_names\"])\n",
    "ca_df = pd.DataFrame(ca_ages, columns=[\"ca_names\"])"
   ]
  },
  {
   "cell_type": "code",
   "execution_count": 13,
   "id": "6179131a-d935-499b-99b8-09c6248b54e4",
   "metadata": {},
   "outputs": [
    {
     "data": {
      "text/html": [
       "<div>\n",
       "<style scoped>\n",
       "    .dataframe tbody tr th:only-of-type {\n",
       "        vertical-align: middle;\n",
       "    }\n",
       "\n",
       "    .dataframe tbody tr th {\n",
       "        vertical-align: top;\n",
       "    }\n",
       "\n",
       "    .dataframe thead th {\n",
       "        text-align: right;\n",
       "    }\n",
       "</style>\n",
       "<table border=\"1\" class=\"dataframe\">\n",
       "  <thead>\n",
       "    <tr style=\"text-align: right;\">\n",
       "      <th></th>\n",
       "      <th>aa_names</th>\n",
       "    </tr>\n",
       "  </thead>\n",
       "  <tbody>\n",
       "    <tr>\n",
       "      <th>count</th>\n",
       "      <td>5000.000000</td>\n",
       "    </tr>\n",
       "    <tr>\n",
       "      <th>mean</th>\n",
       "      <td>51.501600</td>\n",
       "    </tr>\n",
       "    <tr>\n",
       "      <th>std</th>\n",
       "      <td>20.630393</td>\n",
       "    </tr>\n",
       "    <tr>\n",
       "      <th>min</th>\n",
       "      <td>18.000000</td>\n",
       "    </tr>\n",
       "    <tr>\n",
       "      <th>25%</th>\n",
       "      <td>34.000000</td>\n",
       "    </tr>\n",
       "    <tr>\n",
       "      <th>50%</th>\n",
       "      <td>50.000000</td>\n",
       "    </tr>\n",
       "    <tr>\n",
       "      <th>75%</th>\n",
       "      <td>68.000000</td>\n",
       "    </tr>\n",
       "    <tr>\n",
       "      <th>max</th>\n",
       "      <td>110.000000</td>\n",
       "    </tr>\n",
       "  </tbody>\n",
       "</table>\n",
       "</div>"
      ],
      "text/plain": [
       "          aa_names\n",
       "count  5000.000000\n",
       "mean     51.501600\n",
       "std      20.630393\n",
       "min      18.000000\n",
       "25%      34.000000\n",
       "50%      50.000000\n",
       "75%      68.000000\n",
       "max     110.000000"
      ]
     },
     "execution_count": 13,
     "metadata": {},
     "output_type": "execute_result"
    }
   ],
   "source": [
    "aa_df.describe()"
   ]
  },
  {
   "cell_type": "code",
   "execution_count": 14,
   "id": "1f9d4dc9-50e3-44f5-a0ee-bdab9426dd41",
   "metadata": {},
   "outputs": [
    {
     "data": {
      "text/html": [
       "<div>\n",
       "<style scoped>\n",
       "    .dataframe tbody tr th:only-of-type {\n",
       "        vertical-align: middle;\n",
       "    }\n",
       "\n",
       "    .dataframe tbody tr th {\n",
       "        vertical-align: top;\n",
       "    }\n",
       "\n",
       "    .dataframe thead th {\n",
       "        text-align: right;\n",
       "    }\n",
       "</style>\n",
       "<table border=\"1\" class=\"dataframe\">\n",
       "  <thead>\n",
       "    <tr style=\"text-align: right;\">\n",
       "      <th></th>\n",
       "      <th>ca_names</th>\n",
       "    </tr>\n",
       "  </thead>\n",
       "  <tbody>\n",
       "    <tr>\n",
       "      <th>count</th>\n",
       "      <td>5000.000000</td>\n",
       "    </tr>\n",
       "    <tr>\n",
       "      <th>mean</th>\n",
       "      <td>51.459800</td>\n",
       "    </tr>\n",
       "    <tr>\n",
       "      <th>std</th>\n",
       "      <td>21.124953</td>\n",
       "    </tr>\n",
       "    <tr>\n",
       "      <th>min</th>\n",
       "      <td>18.000000</td>\n",
       "    </tr>\n",
       "    <tr>\n",
       "      <th>25%</th>\n",
       "      <td>33.000000</td>\n",
       "    </tr>\n",
       "    <tr>\n",
       "      <th>50%</th>\n",
       "      <td>50.000000</td>\n",
       "    </tr>\n",
       "    <tr>\n",
       "      <th>75%</th>\n",
       "      <td>68.000000</td>\n",
       "    </tr>\n",
       "    <tr>\n",
       "      <th>max</th>\n",
       "      <td>108.000000</td>\n",
       "    </tr>\n",
       "  </tbody>\n",
       "</table>\n",
       "</div>"
      ],
      "text/plain": [
       "          ca_names\n",
       "count  5000.000000\n",
       "mean     51.459800\n",
       "std      21.124953\n",
       "min      18.000000\n",
       "25%      33.000000\n",
       "50%      50.000000\n",
       "75%      68.000000\n",
       "max     108.000000"
      ]
     },
     "execution_count": 14,
     "metadata": {},
     "output_type": "execute_result"
    }
   ],
   "source": [
    "ca_df.describe()"
   ]
  },
  {
   "cell_type": "code",
   "execution_count": 15,
   "id": "1412ec45-af53-4f4b-9f62-bf86b7b5b3cc",
   "metadata": {},
   "outputs": [
    {
     "data": {
      "image/png": "[encoded data removed]",
      "text/plain": [
       "<Figure size 640x480 with 1 Axes>"
      ]
     },
     "metadata": {},
     "output_type": "display_data"
    }
   ],
   "source": [
    "import random\n",
    "import numpy\n",
    "from matplotlib import pyplot\n",
    "\n",
    "x = [aa_df[\"aa_names\"].tolist()]\n",
    "y = [ca_df[\"ca_names\"].tolist()]\n",
    "\n",
    "bins = numpy.linspace(18, 100, 100-18)\n",
    "\n",
    "pyplot.hist(x, bins, alpha=0.5, label=\"aa\")\n",
    "pyplot.hist(y, bins, alpha=0.5, label=\"ca\")\n",
    "pyplot.legend(loc=\"upper right\")\n",
    "pyplot.title(\"Age distribution in AA and CA\")\n",
    "pyplot.show()"
   ]
  },
  {
   "cell_type": "code",
   "execution_count": 16,
   "id": "f23e1995-409a-4839-b935-bad89925bb98",
   "metadata": {},
   "outputs": [
    {
     "data": {
      "text/plain": [
       "<matplotlib.legend.Legend at 0x131c57250>"
      ]
     },
     "execution_count": 16,
     "metadata": {},
     "output_type": "execute_result"
    },
    {
     "data": {
      "image/png": "[encoded data removed]",
      "text/plain": [
       "<Figure size 640x480 with 2 Axes>"
      ]
     },
     "metadata": {},
     "output_type": "display_data"
    }
   ],
   "source": [
    "fig, (ax1, ax2) = plt.subplots(1, 2)\n",
    "fig.suptitle('Age distribution in AA and CA')\n",
    "\n",
    "x = aa_name_list.loc[aa_name_list[\"gender\"] == \"m\"][\"age\"].tolist()\n",
    "y = ca_name_list.loc[ca_name_list[\"gender\"] == \"m\"][\"age\"].tolist()\n",
    "\n",
    "bins = numpy.linspace(18, 110, 110-18)\n",
    "\n",
    "ax1.hist(x, bins, alpha=0.5, label=\"aa\")\n",
    "ax1.hist(y, bins, alpha=0.5, label=\"ca\")\n",
    "ax1.set_title(\"males\")\n",
    "ax1.set_ylim([0,210])\n",
    "ax1.legend(loc=\"upper right\")\n",
    "\n",
    "x = aa_name_list.loc[aa_name_list[\"gender\"] == \"f\"][\"age\"].tolist()\n",
    "y = ca_name_list.loc[ca_name_list[\"gender\"] == \"f\"][\"age\"].tolist()\n",
    "ax2.hist(x, bins, alpha=0.5, label=\"aa\")\n",
    "ax2.hist(y, bins, alpha=0.5, label=\"ca\")\n",
    "ax2.set_title(\"females\")\n",
    "ax2.set_ylim([0,210])\n",
    "ax2.legend(loc=\"upper right\")"
   ]
  },
  {
   "cell_type": "code",
   "execution_count": null,
   "id": "734284cf-ae68-4262-9959-907c00649b57",
   "metadata": {},
   "outputs": [],
   "source": []
  }
 ],
 "metadata": {
  "kernelspec": {
   "display_name": "Python 3 (ipykernel)",
   "language": "python",
   "name": "python3"
  },
  "language_info": {
   "codemirror_mode": {
    "name": "ipython",
    "version": 3
   },
   "file_extension": ".py",
   "mimetype": "text/x-python",
   "name": "python",
   "nbconvert_exporter": "python",
   "pygments_lexer": "ipython3",
   "version": "3.11.3"
  }
 },
 "nbformat": 4,
 "nbformat_minor": 5
}
