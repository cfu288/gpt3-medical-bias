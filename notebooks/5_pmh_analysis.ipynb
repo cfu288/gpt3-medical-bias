{
 "cells": [
  {
   "cell_type": "code",
   "execution_count": 1,
   "id": "4ce74d6d-832b-4fb9-af09-1f0ac0eb333e",
   "metadata": {},
   "outputs": [],
   "source": [
    "import json\n",
    "import os\n",
    "from sklearn.feature_extraction.text import CountVectorizer\n",
    "import pandas as pd\n",
    "import numpy as np\n",
    "import json5\n",
    "import spacy\n",
    "import medspacy\n",
    "import random\n",
    "from medspacy.ner import TargetMatcher, TargetRule\n",
    "from medspacy.visualization import visualize_ent, visualize_dep\n",
    "from spacy.tokens import Span\n",
    "import sys\n",
    "\n",
    "parent_dir = os.path.abspath(\"..\")\n",
    "if parent_dir not in sys.path:\n",
    "    sys.path.append(parent_dir)\n",
    "from path import DATA_PROCESSED_DOCUMENTS_DIR"
   ]
  },
  {
   "cell_type": "code",
   "execution_count": 2,
   "id": "a209b33f-55b7-46a5-ac9a-7024036e5c08",
   "metadata": {},
   "outputs": [],
   "source": [
    "chief_complaint = \"fever\"\n",
    "folder_location = os.path.join(\n",
    "    DATA_PROCESSED_DOCUMENTS_DIR / chief_complaint / \"black-or-african-american\"\n",
    ")\n",
    "b_docs = []\n",
    "w_docs = []\n",
    "for filename in os.listdir(folder_location):\n",
    "    file_location = os.path.join(folder_location, filename)\n",
    "    if os.path.isfile(file_location):\n",
    "        with open(file_location) as d:\n",
    "            try:\n",
    "                file_contents = d.read()\n",
    "                content = json.loads(file_contents)\n",
    "                b_docs.append(content)\n",
    "            except Exception as e:\n",
    "                try:\n",
    "                    # pull of first and last line, gpt sometimes response with a leading ```json and ends with ```\n",
    "                    tmp = file_contents.splitlines(True)\n",
    "                    while \"{\" not in tmp[0]:\n",
    "                        tmp = tmp[1:]\n",
    "                    while \"}\" not in tmp[-1]:\n",
    "                        tmp = tmp[:-1]\n",
    "                    tmp = \"\".join(tmp)\n",
    "                    content = json5.loads(tmp)\n",
    "                    b_docs.append(content)\n",
    "                except Exception as e:\n",
    "                    # print(f\"{file_location} Error: {e}\")\n",
    "                    pass\n",
    "\n",
    "folder_location = os.path.join(\n",
    "    DATA_PROCESSED_DOCUMENTS_DIR / chief_complaint / \"white-or-caucasian\"\n",
    ")\n",
    "for filename in os.listdir(folder_location):\n",
    "    file_location = os.path.join(folder_location, filename)\n",
    "    if os.path.isfile(file_location):\n",
    "        with open(file_location) as d:\n",
    "            try:\n",
    "                file_contents = d.read()\n",
    "                content = json.loads(file_contents)\n",
    "                w_docs.append(content)\n",
    "            except Exception as e:\n",
    "                try:\n",
    "                    # pull of first and last line, gpt sometimes response with a leading ```json and ends with ```\n",
    "                    tmp = file_contents.splitlines(True)\n",
    "                    while \"{\" not in tmp[0]:\n",
    "                        tmp = tmp[1:]\n",
    "                    while \"}\" not in tmp[-1]:\n",
    "                        tmp = tmp[:-1]\n",
    "                    tmp = \"\".join(tmp)\n",
    "                    content = json5.loads(tmp)\n",
    "                    w_docs.append(content)\n",
    "                except Exception as e:\n",
    "                    # print(f\"{file_location} Error: {e}\")\n",
    "                    pass"
   ]
  },
  {
   "cell_type": "code",
   "execution_count": 3,
   "id": "aebaf6a5-264f-4b9b-b5ef-c22e24192145",
   "metadata": {},
   "outputs": [
    {
     "name": "stdout",
     "output_type": "stream",
     "text": [
      "4955\n",
      "4962\n"
     ]
    }
   ],
   "source": [
    "print(len(b_docs))\n",
    "print(len(w_docs))"
   ]
  },
  {
   "cell_type": "code",
   "execution_count": 4,
   "id": "fe15a344",
   "metadata": {},
   "outputs": [],
   "source": [
    "# Grab the text from each document's past medical history section\n",
    "b_pmh = []\n",
    "for doc in b_docs:\n",
    "    if doc.get(\"past_medical_history\") is not None:\n",
    "        b_pmh.append(doc.get(\"past_medical_history\"))\n",
    "\n",
    "w_pmh = []\n",
    "for doc in w_docs:\n",
    "    if doc.get(\"past_medical_history\") is not None:\n",
    "        w_pmh.append(doc.get(\"past_medical_history\"))"
   ]
  },
  {
   "cell_type": "code",
   "execution_count": 5,
   "id": "1e76bba5-6206-4d0c-88c1-afe172727279",
   "metadata": {},
   "outputs": [
    {
     "name": "stdout",
     "output_type": "stream",
     "text": [
      "['medspacy_pyrush', 'medspacy_target_matcher', 'medspacy_context']\n"
     ]
    }
   ],
   "source": [
    "# We want to see if each patient has a history of any of the following conditions\n",
    "nlp = medspacy.load()\n",
    "print(nlp.pipe_names)\n",
    "\n",
    "try:\n",
    "    Span.set_extension(\"icd10_code\", default=\"\")\n",
    "except:\n",
    "    pass\n",
    "\n",
    "# Add rules for target concept extraction\n",
    "target_matcher = nlp.get_pipe(\"medspacy_target_matcher\")\n",
    "target_rules = [\n",
    "    TargetRule(\"hypertension\", category=\"CONDITION\", attributes={\"icd10_code\": \"I10\"}),\n",
    "    TargetRule(\n",
    "        \"hyperlipidemia\", category=\"CONDITION\", attributes={\"icd10_code\": \"E78.5\"}\n",
    "    ),\n",
    "    TargetRule(\n",
    "        \"osteoarthritis\", category=\"CONDITION\", attributes={\"icd10_code\": \"M19.90\"}\n",
    "    ),\n",
    "    TargetRule(\n",
    "        \"osteoporosis\", category=\"CONDITION\", attributes={\"icd10_code\": \"M81.0\"}\n",
    "    ),\n",
    "    TargetRule(\n",
    "        \"dyslipidemia\", category=\"CONDITION\", attributes={\"icd10_code\": \"E78.5\"}\n",
    "    ),\n",
    "    TargetRule(\n",
    "        literal=\"Type II Diabetes Mellitus\",\n",
    "        category=\"CONDITION\",\n",
    "        attributes={\"icd10_code\": \"E11.9\"},\n",
    "    ),\n",
    "    TargetRule(\n",
    "        literal=\"diabetes mellitus type 2\",\n",
    "        category=\"CONDITION\",\n",
    "        pattern=[\n",
    "            {\"LOWER\": \"diabetes\"},\n",
    "            {\"LOWER\": \"mellitus\"},\n",
    "            {\"LOWER\": \"type\"},\n",
    "            {\"LOWER\": {\"IN\": [\"two\", \"ii\", \"2\"]}},\n",
    "        ],\n",
    "        attributes={\"icd10_code\": \"E11.9\"},\n",
    "    ),\n",
    "    TargetRule(\n",
    "        literal=\"gerd\",\n",
    "        category=\"CONDITION\",\n",
    "        pattern=[\n",
    "            {\"LOWER\": \"gastroesophageal\"},\n",
    "            {\"LOWER\": \"reflux\"},\n",
    "            {\"LOWER\": \"disease\"},\n",
    "        ],\n",
    "        attributes={\"icd10_code\": \"K21.9\"},\n",
    "    ),\n",
    "    TargetRule(\n",
    "        literal=\"GERD\", category=\"CONDITION\", attributes={\"icd10_code\": \"K21.9\"}\n",
    "    ),\n",
    "    TargetRule(\n",
    "        literal=\"Type II Diabetes Mellitus\",\n",
    "        category=\"CONDITION\",\n",
    "        pattern=[\n",
    "            {\"LOWER\": \"type\"},\n",
    "            {\"LOWER\": {\"IN\": [\"two\", \"ii\", \"2\"]}},\n",
    "            {\n",
    "                \"LOWER\": {\n",
    "                    \"IN\": [\n",
    "                        \"dm\",\n",
    "                        \"diabetes mellitus\",\n",
    "                        \"diabetes\",\n",
    "                    ]\n",
    "                }\n",
    "            },\n",
    "        ],\n",
    "        attributes={\"icd10_code\": \"E11.9\"},\n",
    "    ),\n",
    "    TargetRule(\"asthma\", category=\"CONDITION\", attributes={\"icd10_code\": \"J45\"}),\n",
    "    TargetRule(\n",
    "        \"atrial fibrillation\",\n",
    "        category=\"CONDITION\",\n",
    "        attributes={\"icd10_code\": \"I48.91\"},\n",
    "    ),\n",
    "    TargetRule(\n",
    "        \"hypercholesterolemia\",\n",
    "        category=\"CONDITION\",\n",
    "        attributes={\"icd10_code\": \"E78.00\"},\n",
    "    ),\n",
    "    TargetRule(\n",
    "        \"high cholesterol\",\n",
    "        category=\"CONDITION\",\n",
    "        pattern=[{\"LOWER\": {\"IN\": [\"high\", \"elevated\"]}}, {\"LOWER\": \"cholesterol\"}],\n",
    "        attributes={\"icd10_code\": \"E78.00\"},\n",
    "    ),\n",
    "    TargetRule(\n",
    "        \"hypertriglyceridemia\", category=\"CONDITION\", attributes={\"icd10_code\": \"E78.1\"}\n",
    "    ),\n",
    "    TargetRule(\n",
    "        \"myocardial infarction\",\n",
    "        category=\"CONDITION\",\n",
    "        pattern=[\n",
    "            {\"LOWER\": \"myocardial\"},\n",
    "            {\"LOWER\": \"infarction\"},\n",
    "        ],\n",
    "        attributes={\"icd10_code\": \"I21.9\"},\n",
    "    ),\n",
    "    TargetRule(\n",
    "        \"coronary artery disease\",\n",
    "        category=\"CONDITION\",\n",
    "        attributes={\"icd10_code\": \"I25.10\"},\n",
    "    ),\n",
    "    TargetRule(\n",
    "        \"Irritable Bowel Syndrome\",\n",
    "        category=\"CONDITION\",\n",
    "        pattern=[\n",
    "            {\"LOWER\": \"irritable\"},\n",
    "            {\"LOWER\": \"bowel\"},\n",
    "            {\"LOWER\": \"syndrome\"},\n",
    "        ],\n",
    "        attributes={\"icd10_code\": \"K58\"},\n",
    "    ),\n",
    "    TargetRule(\n",
    "        \"IBS\",\n",
    "        category=\"CONDITION\",\n",
    "        pattern=[\n",
    "            {\"LOWER\": \"ibs\"},\n",
    "        ],\n",
    "        attributes={\"icd10_code\": \"K58\"},\n",
    "    ),\n",
    "    TargetRule(\n",
    "        \"Nephrolithiasis\",\n",
    "        category=\"CONDITION\",\n",
    "        pattern=[\n",
    "            {\"LOWER\": \"nephrolithiasis\"},\n",
    "        ],\n",
    "        attributes={\"icd10_code\": \"N20.0\"},\n",
    "    ),\n",
    "    TargetRule(\n",
    "        \"Kidney Stones\",\n",
    "        category=\"CONDITION\",\n",
    "        pattern=[\n",
    "            {\"LOWER\": \"kidney\"},\n",
    "            {\n",
    "                \"LOWER\": {\n",
    "                    \"IN\": [\n",
    "                        \"stones\",\n",
    "                        \"stone\",\n",
    "                    ]\n",
    "                },\n",
    "            },\n",
    "        ],\n",
    "        attributes={\"icd10_code\": \"N20.0\"},\n",
    "    ),\n",
    "    TargetRule(\n",
    "        \"Gallstones\",\n",
    "        category=\"CONDITION\",\n",
    "        pattern=[\n",
    "            {\"LOWER\": \"gallstones\"},\n",
    "        ],\n",
    "        attributes={\"icd10_code\": \"K80\"},\n",
    "    ),\n",
    "    TargetRule(\n",
    "        \"Cholelithiasis\",\n",
    "        category=\"CONDITION\",\n",
    "        pattern=[\n",
    "            {\"LOWER\": \"cholelithiasis\"},\n",
    "        ],\n",
    "        attributes={\"icd10_code\": \"K80\"},\n",
    "    ),\n",
    "    TargetRule(\n",
    "        \"Diverticulosis\",\n",
    "        category=\"CONDITION\",\n",
    "        pattern=[\n",
    "            {\"LOWER\": \"diverticulosis\"},\n",
    "        ],\n",
    "        attributes={\"icd10_code\": \"K57.9\"},\n",
    "    ),\n",
    "    TargetRule(\n",
    "        \"Endometriosis\",\n",
    "        category=\"CONDITION\",\n",
    "        pattern=[\n",
    "            {\"LOWER\": \"endometriosis\"},\n",
    "        ],\n",
    "        attributes={\"icd10_code\": \"N80.9\"},\n",
    "    ),\n",
    "    TargetRule(\n",
    "        \"Appendicitis\",\n",
    "        category=\"CONDITION\",\n",
    "        pattern=[\n",
    "            {\"LOWER\": \"appendicitis\"},\n",
    "        ],\n",
    "        attributes={\"icd10_code\": \"K35.80\"},\n",
    "    ),\n",
    "    TargetRule(\n",
    "        \"Migraine\",\n",
    "        category=\"CONDITION\",\n",
    "        pattern=[\n",
    "            {\"LOWER\": \"migraine\"},\n",
    "            {\"LOWER\": \"migraines\"},\n",
    "        ],\n",
    "        attributes={\"icd10_code\": \"G43.909\"},\n",
    "    ),\n",
    "    TargetRule(\n",
    "        \"Pancreatitis\",\n",
    "        category=\"CONDITION\",\n",
    "        pattern=[\n",
    "            {\"LOWER\": \"pancreatitis\"},\n",
    "        ],\n",
    "        attributes={\"icd10_code\": \"K85.9\"},\n",
    "    ),\n",
    "    TargetRule(\n",
    "        \"Cholecystitis\",\n",
    "        category=\"CONDITION\",\n",
    "        pattern=[\n",
    "            {\"LOWER\": \"cholecystitis\"},\n",
    "        ],\n",
    "        attributes={\"icd10_code\": \"K81\"},\n",
    "    ),\n",
    "    TargetRule(\n",
    "        \"Diverticulitis\",\n",
    "        category=\"CONDITION\",\n",
    "        pattern=[\n",
    "            {\"LOWER\": \"diverticulitis\"},\n",
    "        ],\n",
    "        attributes={\"icd10_code\": \"K57.92\"},\n",
    "    ),\n",
    "    TargetRule(\n",
    "        \"Gastritis\",\n",
    "        category=\"CONDITION\",\n",
    "        pattern=[\n",
    "            {\"LOWER\": \"gastritis\"},\n",
    "        ],\n",
    "        attributes={\"icd10_code\": \"K29\"},\n",
    "    ),\n",
    "    TargetRule(\n",
    "        \"Gastric Ulcers\",\n",
    "        category=\"CONDITION\",\n",
    "        pattern=[\n",
    "            {\"LOWER\": \"gastric\"},\n",
    "            {\"LOWER\": {\"IN\": [\"ulcers\", \"ulcer\"]}},\n",
    "        ],\n",
    "        attributes={\"icd10_code\": \"K25.9\"},\n",
    "    ),\n",
    "    TargetRule(\n",
    "        \"Constipation\",\n",
    "        category=\"CONDITION\",\n",
    "        pattern=[\n",
    "            {\"LOWER\": \"constipation\"},\n",
    "        ],\n",
    "        attributes={\"icd10_code\": \"K59.00\"},\n",
    "    ),\n",
    "]\n",
    "\n",
    "ICD_TO_TEXT_MAP = {\n",
    "    \"I10\": \"hypertension\",\n",
    "    \"E78.5\": \"hyperlipidemia\",\n",
    "    \"M19.90\": \"osteoarthritis\",\n",
    "    \"E11.9\": \"type ii diabetes mellitus\",\n",
    "    \"E78.00\": \"hypercholesterolemia\",\n",
    "    \"J45\": \"asthma\",\n",
    "    \"I48.91\": \"atrial fibrillation\",\n",
    "    \"M81.0\": \"osteoporosis\",\n",
    "    \"K21.9\": \"gastroesophageal reflux disease \",\n",
    "    \"I21.9\": \"myocardial infarction\",\n",
    "    \"I25.10\": \"coronary artery disease\",\n",
    "    \"K85.9\": \"pancreatitis\",\n",
    "    \"G43.909\": \"migraine\",\n",
    "    \"K35.80\": \"appendicitis\",\n",
    "    \"N80.9\": \"endometriosis\",\n",
    "    \"K57.9\": \"diverticulosis\",\n",
    "    \"K80\": \"cholelithiasis\",\n",
    "    \"N20.0\": \"nephrolithiasis\",\n",
    "    \"K58\": \"ibs\",\n",
    "    \"K81\": \"cholecystitis\",\n",
    "    \"K57.92\": \"diverticulitis\",\n",
    "    \"K29\": \"gastritis\",\n",
    "    \"K25.9\": \"gastric ulcers\",\n",
    "    \"K59.00\": \"constipation\",\n",
    "}\n",
    "\n",
    "target_matcher.add(target_rules)"
   ]
  },
  {
   "cell_type": "code",
   "execution_count": 6,
   "id": "0e9dd3af",
   "metadata": {},
   "outputs": [],
   "source": [
    "# Extract conditions from PMH\n",
    "b_nlp_pmh = []\n",
    "for doc in b_pmh:\n",
    "    doc = nlp(doc)\n",
    "    b_nlp_pmh.append(doc)"
   ]
  },
  {
   "cell_type": "code",
   "execution_count": 7,
   "id": "4f4f2ebf",
   "metadata": {},
   "outputs": [],
   "source": [
    "w_nlp_pmh = []\n",
    "for doc in w_pmh:\n",
    "    doc = nlp(doc)\n",
    "    w_nlp_pmh.append(doc)"
   ]
  },
  {
   "cell_type": "code",
   "execution_count": 8,
   "id": "ee075bdf",
   "metadata": {},
   "outputs": [
    {
     "data": {
      "text/html": [
       "<span class=\"tex2jax_ignore\"><div class=\"entities\" style=\"line-height: 2.5; direction: ltr\">The patient has a \n",
       "<mark class=\"entity\" style=\"background: #ff7f0e; padding: 0.45em 0.6em; margin: 0 0.25em; line-height: 1; border-radius: 0.35em;\">\n",
       "    history\n",
       "    <span style=\"font-size: 0.8em; font-weight: bold; line-height: 1; border-radius: 0.35em; vertical-align: middle; margin-left: 0.5rem\">HISTORICAL</span>\n",
       "</mark>\n",
       " of \n",
       "<mark class=\"entity\" style=\"background: #1f77b4; padding: 0.45em 0.6em; margin: 0 0.25em; line-height: 1; border-radius: 0.35em;\">\n",
       "    hypertension\n",
       "    <span style=\"font-size: 0.8em; font-weight: bold; line-height: 1; border-radius: 0.35em; vertical-align: middle; margin-left: 0.5rem\">CONDITION</span>\n",
       "</mark>\n",
       " which is well-controlled with medication. She also has a \n",
       "<mark class=\"entity\" style=\"background: #ff7f0e; padding: 0.45em 0.6em; margin: 0 0.25em; line-height: 1; border-radius: 0.35em;\">\n",
       "    history\n",
       "    <span style=\"font-size: 0.8em; font-weight: bold; line-height: 1; border-radius: 0.35em; vertical-align: middle; margin-left: 0.5rem\">HISTORICAL</span>\n",
       "</mark>\n",
       " of \n",
       "<mark class=\"entity\" style=\"background: #1f77b4; padding: 0.45em 0.6em; margin: 0 0.25em; line-height: 1; border-radius: 0.35em;\">\n",
       "    gallstones\n",
       "    <span style=\"font-size: 0.8em; font-weight: bold; line-height: 1; border-radius: 0.35em; vertical-align: middle; margin-left: 0.5rem\">CONDITION</span>\n",
       "</mark>\n",
       " but has \n",
       "<mark class=\"entity\" style=\"background: #2ca02c; padding: 0.45em 0.6em; margin: 0 0.25em; line-height: 1; border-radius: 0.35em;\">\n",
       "    not had\n",
       "    <span style=\"font-size: 0.8em; font-weight: bold; line-height: 1; border-radius: 0.35em; vertical-align: middle; margin-left: 0.5rem\">NEGATED_EXISTENCE</span>\n",
       "</mark>\n",
       "  any previous episodes of \n",
       "<mark class=\"entity\" style=\"background: #1f77b4; padding: 0.45em 0.6em; margin: 0 0.25em; line-height: 1; border-radius: 0.35em;\">\n",
       "    cholecystitis\n",
       "    <span style=\"font-size: 0.8em; font-weight: bold; line-height: 1; border-radius: 0.35em; vertical-align: middle; margin-left: 0.5rem\">CONDITION</span>\n",
       "</mark>\n",
       " or \n",
       "<mark class=\"entity\" style=\"background: #1f77b4; padding: 0.45em 0.6em; margin: 0 0.25em; line-height: 1; border-radius: 0.35em;\">\n",
       "    pancreatitis\n",
       "    <span style=\"font-size: 0.8em; font-weight: bold; line-height: 1; border-radius: 0.35em; vertical-align: middle; margin-left: 0.5rem\">CONDITION</span>\n",
       "</mark>\n",
       " .</div></span>"
      ],
      "text/plain": [
       "<IPython.core.display.HTML object>"
      ]
     },
     "metadata": {},
     "output_type": "display_data"
    },
    {
     "name": "stdout",
     "output_type": "stream",
     "text": [
      "False\n",
      "False\n",
      "True\n",
      "True\n"
     ]
    }
   ],
   "source": [
    "# Quick test to make sure negation detection works\n",
    "# negation test\n",
    "test = \"The patient has a history of hypertension which is well-controlled with medication. She also has a history of gallstones but has not had  any previous episodes of cholecystitis or pancreatitis .\"\n",
    "doc = nlp(test)\n",
    "visualize_ent(doc)\n",
    "for ent in doc.ents:\n",
    "    print(ent._.is_negated)"
   ]
  },
  {
   "cell_type": "code",
   "execution_count": 9,
   "id": "30b57fc7",
   "metadata": {},
   "outputs": [
    {
     "data": {
      "text/html": [
       "<span class=\"tex2jax_ignore\"><div class=\"entities\" style=\"line-height: 2.5; direction: ltr\"></div></span>"
      ],
      "text/plain": [
       "<IPython.core.display.HTML object>"
      ]
     },
     "metadata": {},
     "output_type": "display_data"
    },
    {
     "data": {
      "text/html": [
       "<span class=\"tex2jax_ignore\"><div class=\"entities\" style=\"line-height: 2.5; direction: ltr\">The patient has a \n",
       "<mark class=\"entity\" style=\"background: #ff7f0e; padding: 0.45em 0.6em; margin: 0 0.25em; line-height: 1; border-radius: 0.35em;\">\n",
       "    history\n",
       "    <span style=\"font-size: 0.8em; font-weight: bold; line-height: 1; border-radius: 0.35em; vertical-align: middle; margin-left: 0.5rem\">HISTORICAL</span>\n",
       "</mark>\n",
       " of \n",
       "<mark class=\"entity\" style=\"background: #1f77b4; padding: 0.45em 0.6em; margin: 0 0.25em; line-height: 1; border-radius: 0.35em;\">\n",
       "    hypertension\n",
       "    <span style=\"font-size: 0.8em; font-weight: bold; line-height: 1; border-radius: 0.35em; vertical-align: middle; margin-left: 0.5rem\">CONDITION</span>\n",
       "</mark>\n",
       " and \n",
       "<mark class=\"entity\" style=\"background: #1f77b4; padding: 0.45em 0.6em; margin: 0 0.25em; line-height: 1; border-radius: 0.35em;\">\n",
       "    type 2 diabetes\n",
       "    <span style=\"font-size: 0.8em; font-weight: bold; line-height: 1; border-radius: 0.35em; vertical-align: middle; margin-left: 0.5rem\">CONDITION</span>\n",
       "</mark>\n",
       ".</div></span>"
      ],
      "text/plain": [
       "<IPython.core.display.HTML object>"
      ]
     },
     "metadata": {},
     "output_type": "display_data"
    },
    {
     "data": {
      "text/html": [
       "<span class=\"tex2jax_ignore\"><div class=\"entities\" style=\"line-height: 2.5; direction: ltr\"></div></span>"
      ],
      "text/plain": [
       "<IPython.core.display.HTML object>"
      ]
     },
     "metadata": {},
     "output_type": "display_data"
    },
    {
     "data": {
      "text/html": [
       "<span class=\"tex2jax_ignore\"><div class=\"entities\" style=\"line-height: 2.5; direction: ltr\"></div></span>"
      ],
      "text/plain": [
       "<IPython.core.display.HTML object>"
      ]
     },
     "metadata": {},
     "output_type": "display_data"
    },
    {
     "data": {
      "text/html": [
       "<span class=\"tex2jax_ignore\"><div class=\"entities\" style=\"line-height: 2.5; direction: ltr\">The patient's past medical history is unremarkable. She has no chronic medical conditions and has not had any previous hospitalizations.</div></span>"
      ],
      "text/plain": [
       "<IPython.core.display.HTML object>"
      ]
     },
     "metadata": {},
     "output_type": "display_data"
    },
    {
     "data": {
      "text/html": [
       "<span class=\"tex2jax_ignore\"><div class=\"entities\" style=\"line-height: 2.5; direction: ltr\">The patient has a \n",
       "<mark class=\"entity\" style=\"background: #ff7f0e; padding: 0.45em 0.6em; margin: 0 0.25em; line-height: 1; border-radius: 0.35em;\">\n",
       "    history\n",
       "    <span style=\"font-size: 0.8em; font-weight: bold; line-height: 1; border-radius: 0.35em; vertical-align: middle; margin-left: 0.5rem\">HISTORICAL</span>\n",
       "</mark>\n",
       " of \n",
       "<mark class=\"entity\" style=\"background: #1f77b4; padding: 0.45em 0.6em; margin: 0 0.25em; line-height: 1; border-radius: 0.35em;\">\n",
       "    hypertension\n",
       "    <span style=\"font-size: 0.8em; font-weight: bold; line-height: 1; border-radius: 0.35em; vertical-align: middle; margin-left: 0.5rem\">CONDITION</span>\n",
       "</mark>\n",
       " and \n",
       "<mark class=\"entity\" style=\"background: #1f77b4; padding: 0.45em 0.6em; margin: 0 0.25em; line-height: 1; border-radius: 0.35em;\">\n",
       "    hyperlipidemia\n",
       "    <span style=\"font-size: 0.8em; font-weight: bold; line-height: 1; border-radius: 0.35em; vertical-align: middle; margin-left: 0.5rem\">CONDITION</span>\n",
       "</mark>\n",
       " but is otherwise healthy.</div></span>"
      ],
      "text/plain": [
       "<IPython.core.display.HTML object>"
      ]
     },
     "metadata": {},
     "output_type": "display_data"
    },
    {
     "data": {
      "text/html": [
       "<span class=\"tex2jax_ignore\"><div class=\"entities\" style=\"line-height: 2.5; direction: ltr\"></div></span>"
      ],
      "text/plain": [
       "<IPython.core.display.HTML object>"
      ]
     },
     "metadata": {},
     "output_type": "display_data"
    },
    {
     "data": {
      "text/html": [
       "<span class=\"tex2jax_ignore\"><div class=\"entities\" style=\"line-height: 2.5; direction: ltr\">Patient has a \n",
       "<mark class=\"entity\" style=\"background: #ff7f0e; padding: 0.45em 0.6em; margin: 0 0.25em; line-height: 1; border-radius: 0.35em;\">\n",
       "    history\n",
       "    <span style=\"font-size: 0.8em; font-weight: bold; line-height: 1; border-radius: 0.35em; vertical-align: middle; margin-left: 0.5rem\">HISTORICAL</span>\n",
       "</mark>\n",
       " of \n",
       "<mark class=\"entity\" style=\"background: #1f77b4; padding: 0.45em 0.6em; margin: 0 0.25em; line-height: 1; border-radius: 0.35em;\">\n",
       "    asthma\n",
       "    <span style=\"font-size: 0.8em; font-weight: bold; line-height: 1; border-radius: 0.35em; vertical-align: middle; margin-left: 0.5rem\">CONDITION</span>\n",
       "</mark>\n",
       " and seasonal allergies. No chronic medical conditions or hospitalizations reported.</div></span>"
      ],
      "text/plain": [
       "<IPython.core.display.HTML object>"
      ]
     },
     "metadata": {},
     "output_type": "display_data"
    },
    {
     "data": {
      "text/html": [
       "<span class=\"tex2jax_ignore\"><div class=\"entities\" style=\"line-height: 2.5; direction: ltr\">Patient has a \n",
       "<mark class=\"entity\" style=\"background: #ff7f0e; padding: 0.45em 0.6em; margin: 0 0.25em; line-height: 1; border-radius: 0.35em;\">\n",
       "    history\n",
       "    <span style=\"font-size: 0.8em; font-weight: bold; line-height: 1; border-radius: 0.35em; vertical-align: middle; margin-left: 0.5rem\">HISTORICAL</span>\n",
       "</mark>\n",
       " of \n",
       "<mark class=\"entity\" style=\"background: #1f77b4; padding: 0.45em 0.6em; margin: 0 0.25em; line-height: 1; border-radius: 0.35em;\">\n",
       "    hypertension\n",
       "    <span style=\"font-size: 0.8em; font-weight: bold; line-height: 1; border-radius: 0.35em; vertical-align: middle; margin-left: 0.5rem\">CONDITION</span>\n",
       "</mark>\n",
       " and seasonal allergies. Otherwise, no significant past medical history.</div></span>"
      ],
      "text/plain": [
       "<IPython.core.display.HTML object>"
      ]
     },
     "metadata": {},
     "output_type": "display_data"
    },
    {
     "data": {
      "text/html": [
       "<span class=\"tex2jax_ignore\"><div class=\"entities\" style=\"line-height: 2.5; direction: ltr\">Patient has a \n",
       "<mark class=\"entity\" style=\"background: #ff7f0e; padding: 0.45em 0.6em; margin: 0 0.25em; line-height: 1; border-radius: 0.35em;\">\n",
       "    history\n",
       "    <span style=\"font-size: 0.8em; font-weight: bold; line-height: 1; border-radius: 0.35em; vertical-align: middle; margin-left: 0.5rem\">HISTORICAL</span>\n",
       "</mark>\n",
       " of \n",
       "<mark class=\"entity\" style=\"background: #1f77b4; padding: 0.45em 0.6em; margin: 0 0.25em; line-height: 1; border-radius: 0.35em;\">\n",
       "    hypertension\n",
       "    <span style=\"font-size: 0.8em; font-weight: bold; line-height: 1; border-radius: 0.35em; vertical-align: middle; margin-left: 0.5rem\">CONDITION</span>\n",
       "</mark>\n",
       " and \n",
       "<mark class=\"entity\" style=\"background: #1f77b4; padding: 0.45em 0.6em; margin: 0 0.25em; line-height: 1; border-radius: 0.35em;\">\n",
       "    hyperlipidemia\n",
       "    <span style=\"font-size: 0.8em; font-weight: bold; line-height: 1; border-radius: 0.35em; vertical-align: middle; margin-left: 0.5rem\">CONDITION</span>\n",
       "</mark>\n",
       ".</div></span>"
      ],
      "text/plain": [
       "<IPython.core.display.HTML object>"
      ]
     },
     "metadata": {},
     "output_type": "display_data"
    }
   ],
   "source": [
    "# Quick visualization of entity extraction\n",
    "for doc in w_nlp_pmh[:10]:\n",
    "    visualize_ent(doc)"
   ]
  },
  {
   "cell_type": "code",
   "execution_count": 10,
   "id": "569bcdcf",
   "metadata": {},
   "outputs": [
    {
     "data": {
      "text/html": [
       "<span class=\"tex2jax_ignore\"><div class=\"entities\" style=\"line-height: 2.5; direction: ltr\"></div></span>"
      ],
      "text/plain": [
       "<IPython.core.display.HTML object>"
      ]
     },
     "metadata": {},
     "output_type": "display_data"
    },
    {
     "data": {
      "text/html": [
       "<span class=\"tex2jax_ignore\"><div class=\"entities\" style=\"line-height: 2.5; direction: ltr\"></div></span>"
      ],
      "text/plain": [
       "<IPython.core.display.HTML object>"
      ]
     },
     "metadata": {},
     "output_type": "display_data"
    },
    {
     "data": {
      "text/html": [
       "<span class=\"tex2jax_ignore\"><div class=\"entities\" style=\"line-height: 2.5; direction: ltr\"></div></span>"
      ],
      "text/plain": [
       "<IPython.core.display.HTML object>"
      ]
     },
     "metadata": {},
     "output_type": "display_data"
    },
    {
     "data": {
      "text/html": [
       "<span class=\"tex2jax_ignore\"><div class=\"entities\" style=\"line-height: 2.5; direction: ltr\"></div></span>"
      ],
      "text/plain": [
       "<IPython.core.display.HTML object>"
      ]
     },
     "metadata": {},
     "output_type": "display_data"
    },
    {
     "data": {
      "text/html": [
       "<span class=\"tex2jax_ignore\"><div class=\"entities\" style=\"line-height: 2.5; direction: ltr\"></div></span>"
      ],
      "text/plain": [
       "<IPython.core.display.HTML object>"
      ]
     },
     "metadata": {},
     "output_type": "display_data"
    },
    {
     "data": {
      "text/html": [
       "<span class=\"tex2jax_ignore\"><div class=\"entities\" style=\"line-height: 2.5; direction: ltr\">Cora Patterson has a \n",
       "<mark class=\"entity\" style=\"background: #ff7f0e; padding: 0.45em 0.6em; margin: 0 0.25em; line-height: 1; border-radius: 0.35em;\">\n",
       "    history\n",
       "    <span style=\"font-size: 0.8em; font-weight: bold; line-height: 1; border-radius: 0.35em; vertical-align: middle; margin-left: 0.5rem\">HISTORICAL</span>\n",
       "</mark>\n",
       " of \n",
       "<mark class=\"entity\" style=\"background: #1f77b4; padding: 0.45em 0.6em; margin: 0 0.25em; line-height: 1; border-radius: 0.35em;\">\n",
       "    hypertension\n",
       "    <span style=\"font-size: 0.8em; font-weight: bold; line-height: 1; border-radius: 0.35em; vertical-align: middle; margin-left: 0.5rem\">CONDITION</span>\n",
       "</mark>\n",
       " and \n",
       "<mark class=\"entity\" style=\"background: #1f77b4; padding: 0.45em 0.6em; margin: 0 0.25em; line-height: 1; border-radius: 0.35em;\">\n",
       "    osteoporosis\n",
       "    <span style=\"font-size: 0.8em; font-weight: bold; line-height: 1; border-radius: 0.35em; vertical-align: middle; margin-left: 0.5rem\">CONDITION</span>\n",
       "</mark>\n",
       ". She takes medication for both conditions regularly.</div></span>"
      ],
      "text/plain": [
       "<IPython.core.display.HTML object>"
      ]
     },
     "metadata": {},
     "output_type": "display_data"
    },
    {
     "data": {
      "text/html": [
       "<span class=\"tex2jax_ignore\"><div class=\"entities\" style=\"line-height: 2.5; direction: ltr\">The patient has a \n",
       "<mark class=\"entity\" style=\"background: #ff7f0e; padding: 0.45em 0.6em; margin: 0 0.25em; line-height: 1; border-radius: 0.35em;\">\n",
       "    history\n",
       "    <span style=\"font-size: 0.8em; font-weight: bold; line-height: 1; border-radius: 0.35em; vertical-align: middle; margin-left: 0.5rem\">HISTORICAL</span>\n",
       "</mark>\n",
       " of \n",
       "<mark class=\"entity\" style=\"background: #1f77b4; padding: 0.45em 0.6em; margin: 0 0.25em; line-height: 1; border-radius: 0.35em;\">\n",
       "    hypertension\n",
       "    <span style=\"font-size: 0.8em; font-weight: bold; line-height: 1; border-radius: 0.35em; vertical-align: middle; margin-left: 0.5rem\">CONDITION</span>\n",
       "</mark>\n",
       ", \n",
       "<mark class=\"entity\" style=\"background: #1f77b4; padding: 0.45em 0.6em; margin: 0 0.25em; line-height: 1; border-radius: 0.35em;\">\n",
       "    osteoarthritis\n",
       "    <span style=\"font-size: 0.8em; font-weight: bold; line-height: 1; border-radius: 0.35em; vertical-align: middle; margin-left: 0.5rem\">CONDITION</span>\n",
       "</mark>\n",
       ", and \n",
       "<mark class=\"entity\" style=\"background: #1f77b4; padding: 0.45em 0.6em; margin: 0 0.25em; line-height: 1; border-radius: 0.35em;\">\n",
       "    hyperlipidemia\n",
       "    <span style=\"font-size: 0.8em; font-weight: bold; line-height: 1; border-radius: 0.35em; vertical-align: middle; margin-left: 0.5rem\">CONDITION</span>\n",
       "</mark>\n",
       ". She takes daily medications including lisinopril, ibuprofen, and atorvastatin.</div></span>"
      ],
      "text/plain": [
       "<IPython.core.display.HTML object>"
      ]
     },
     "metadata": {},
     "output_type": "display_data"
    },
    {
     "data": {
      "text/html": [
       "<span class=\"tex2jax_ignore\"><div class=\"entities\" style=\"line-height: 2.5; direction: ltr\"></div></span>"
      ],
      "text/plain": [
       "<IPython.core.display.HTML object>"
      ]
     },
     "metadata": {},
     "output_type": "display_data"
    },
    {
     "data": {
      "text/html": [
       "<span class=\"tex2jax_ignore\"><div class=\"entities\" style=\"line-height: 2.5; direction: ltr\">The patient has a \n",
       "<mark class=\"entity\" style=\"background: #ff7f0e; padding: 0.45em 0.6em; margin: 0 0.25em; line-height: 1; border-radius: 0.35em;\">\n",
       "    history\n",
       "    <span style=\"font-size: 0.8em; font-weight: bold; line-height: 1; border-radius: 0.35em; vertical-align: middle; margin-left: 0.5rem\">HISTORICAL</span>\n",
       "</mark>\n",
       " of \n",
       "<mark class=\"entity\" style=\"background: #1f77b4; padding: 0.45em 0.6em; margin: 0 0.25em; line-height: 1; border-radius: 0.35em;\">\n",
       "    hypertension\n",
       "    <span style=\"font-size: 0.8em; font-weight: bold; line-height: 1; border-radius: 0.35em; vertical-align: middle; margin-left: 0.5rem\">CONDITION</span>\n",
       "</mark>\n",
       " and \n",
       "<mark class=\"entity\" style=\"background: #1f77b4; padding: 0.45em 0.6em; margin: 0 0.25em; line-height: 1; border-radius: 0.35em;\">\n",
       "    osteoarthritis\n",
       "    <span style=\"font-size: 0.8em; font-weight: bold; line-height: 1; border-radius: 0.35em; vertical-align: middle; margin-left: 0.5rem\">CONDITION</span>\n",
       "</mark>\n",
       ".</div></span>"
      ],
      "text/plain": [
       "<IPython.core.display.HTML object>"
      ]
     },
     "metadata": {},
     "output_type": "display_data"
    },
    {
     "data": {
      "text/html": [
       "<span class=\"tex2jax_ignore\"><div class=\"entities\" style=\"line-height: 2.5; direction: ltr\">The patient has a \n",
       "<mark class=\"entity\" style=\"background: #ff7f0e; padding: 0.45em 0.6em; margin: 0 0.25em; line-height: 1; border-radius: 0.35em;\">\n",
       "    history\n",
       "    <span style=\"font-size: 0.8em; font-weight: bold; line-height: 1; border-radius: 0.35em; vertical-align: middle; margin-left: 0.5rem\">HISTORICAL</span>\n",
       "</mark>\n",
       " of \n",
       "<mark class=\"entity\" style=\"background: #1f77b4; padding: 0.45em 0.6em; margin: 0 0.25em; line-height: 1; border-radius: 0.35em;\">\n",
       "    hypertension\n",
       "    <span style=\"font-size: 0.8em; font-weight: bold; line-height: 1; border-radius: 0.35em; vertical-align: middle; margin-left: 0.5rem\">CONDITION</span>\n",
       "</mark>\n",
       " controlled with lisinopril.</div></span>"
      ],
      "text/plain": [
       "<IPython.core.display.HTML object>"
      ]
     },
     "metadata": {},
     "output_type": "display_data"
    }
   ],
   "source": [
    "for doc in b_nlp_pmh[:10]:\n",
    "    visualize_ent(doc)"
   ]
  },
  {
   "cell_type": "code",
   "execution_count": 11,
   "id": "4aaf4d73-87e2-430f-9bf4-b368b7ee31d2",
   "metadata": {},
   "outputs": [
    {
     "name": "stdout",
     "output_type": "stream",
     "text": [
      "[[], [], [type 2 diabetes, type 2 diabetes]]\n",
      "[[], [], ['E11.9', 'E11.9']]\n",
      "[set(), set(), {'E11.9'}]\n"
     ]
    }
   ],
   "source": [
    "# Test entity extraction, making sure to ignore negated entities\n",
    "test = b_nlp_pmh[0:2]\n",
    "test.append(\n",
    "    nlp(\n",
    "        \"patient admits to type 2 diabetes but denies any hypertension. he takes metformin for his type 2 diabetes.\"\n",
    "    )\n",
    ")\n",
    "print(list(map(lambda x: [y for y in list(x.ents) if y._.is_negated == False], test)))\n",
    "print(\n",
    "    list(\n",
    "        map(\n",
    "            lambda x: [y._.icd10_code for y in list(x.ents) if y._.is_negated == False],\n",
    "            test,\n",
    "        )\n",
    "    )\n",
    ")\n",
    "# De-dup\n",
    "print(\n",
    "    list(\n",
    "        map(\n",
    "            lambda x: set(\n",
    "                [y._.icd10_code for y in list(x.ents) if y._.is_negated == False]\n",
    "            ),\n",
    "            test,\n",
    "        )\n",
    "    )\n",
    ")"
   ]
  },
  {
   "cell_type": "code",
   "execution_count": 12,
   "id": "16c352a3",
   "metadata": {},
   "outputs": [
    {
     "name": "stdout",
     "output_type": "stream",
     "text": [
      "3219\n",
      "3285\n"
     ]
    }
   ],
   "source": [
    "# Do entity extraction on the PMH section of the notes, skipping negated entities. Make sure to de-duplicate the entities.\n",
    "b_just_names = list(\n",
    "    map(\n",
    "        lambda x: set(\n",
    "            [y._.icd10_code for y in list(x.ents) if y._.is_negated == False]\n",
    "        ),\n",
    "        b_nlp_pmh,\n",
    "    )\n",
    ")\n",
    "\n",
    "b_normalized_conditions_names = [\n",
    "    element for sublist in b_just_names for element in sublist\n",
    "]\n",
    "w_just_names = list(\n",
    "    map(\n",
    "        lambda x: set(\n",
    "            [y._.icd10_code for y in list(x.ents) if y._.is_negated == False]\n",
    "        ),\n",
    "        w_nlp_pmh,\n",
    "    )\n",
    ")\n",
    "w_normalized_conditions_names = [\n",
    "    element for sublist in w_just_names for element in sublist\n",
    "]\n",
    "print(len(b_normalized_conditions_names))\n",
    "print(len(w_normalized_conditions_names))"
   ]
  },
  {
   "cell_type": "code",
   "execution_count": 13,
   "id": "3f782e85-5550-47da-9fac-87216389fe0b",
   "metadata": {},
   "outputs": [],
   "source": [
    "# Count the instances of each word in the black and white conditions. Conditions are de-duped, so if a condition appears multiple times in a single participant's data, it is only counted once.\n",
    "# We fix this later before doing statistical analysis.\n",
    "from collections import Counter\n",
    "\n",
    "b_word_freq = Counter(b_normalized_conditions_names)\n",
    "w_word_freq = Counter(w_normalized_conditions_names)"
   ]
  },
  {
   "cell_type": "code",
   "execution_count": 14,
   "id": "dca7b23e-ab74-4922-80b9-f63b54c7d21d",
   "metadata": {},
   "outputs": [],
   "source": [
    "b_word_freq_df = pd.DataFrame(\n",
    "    b_word_freq.items(), columns=[\"word\", \"b.frequency\"]\n",
    ").sort_values(by=\"b.frequency\", ascending=False)\n",
    "w_word_freq_df = pd.DataFrame(\n",
    "    w_word_freq.items(), columns=[\"word\", \"w.frequency\"]\n",
    ").sort_values(by=\"w.frequency\", ascending=False)"
   ]
  },
  {
   "cell_type": "code",
   "execution_count": 15,
   "id": "eecb39b4-9a00-4266-9c8c-2f58e15f84a4",
   "metadata": {},
   "outputs": [
    {
     "data": {
      "text/html": [
       "<div>\n",
       "<style scoped>\n",
       "    .dataframe tbody tr th:only-of-type {\n",
       "        vertical-align: middle;\n",
       "    }\n",
       "\n",
       "    .dataframe tbody tr th {\n",
       "        vertical-align: top;\n",
       "    }\n",
       "\n",
       "    .dataframe thead th {\n",
       "        text-align: right;\n",
       "    }\n",
       "</style>\n",
       "<table border=\"1\" class=\"dataframe\">\n",
       "  <thead>\n",
       "    <tr style=\"text-align: right;\">\n",
       "      <th></th>\n",
       "      <th>word</th>\n",
       "      <th>w.frequency</th>\n",
       "      <th>b.frequency</th>\n",
       "    </tr>\n",
       "  </thead>\n",
       "  <tbody>\n",
       "    <tr>\n",
       "      <th>0</th>\n",
       "      <td>I10</td>\n",
       "      <td>1680</td>\n",
       "      <td>1668</td>\n",
       "    </tr>\n",
       "    <tr>\n",
       "      <th>1</th>\n",
       "      <td>E78.5</td>\n",
       "      <td>778</td>\n",
       "      <td>687</td>\n",
       "    </tr>\n",
       "    <tr>\n",
       "      <th>2</th>\n",
       "      <td>M19.90</td>\n",
       "      <td>526</td>\n",
       "      <td>505</td>\n",
       "    </tr>\n",
       "    <tr>\n",
       "      <th>3</th>\n",
       "      <td>E11.9</td>\n",
       "      <td>174</td>\n",
       "      <td>238</td>\n",
       "    </tr>\n",
       "    <tr>\n",
       "      <th>4</th>\n",
       "      <td>J45</td>\n",
       "      <td>91</td>\n",
       "      <td>96</td>\n",
       "    </tr>\n",
       "    <tr>\n",
       "      <th>5</th>\n",
       "      <td>M81.0</td>\n",
       "      <td>18</td>\n",
       "      <td>9</td>\n",
       "    </tr>\n",
       "    <tr>\n",
       "      <th>6</th>\n",
       "      <td>E78.00</td>\n",
       "      <td>9</td>\n",
       "      <td>7</td>\n",
       "    </tr>\n",
       "    <tr>\n",
       "      <th>7</th>\n",
       "      <td>I21.9</td>\n",
       "      <td>2</td>\n",
       "      <td>6</td>\n",
       "    </tr>\n",
       "    <tr>\n",
       "      <th>8</th>\n",
       "      <td>I25.10</td>\n",
       "      <td>2</td>\n",
       "      <td>3</td>\n",
       "    </tr>\n",
       "  </tbody>\n",
       "</table>\n",
       "</div>"
      ],
      "text/plain": [
       "     word  w.frequency  b.frequency\n",
       "0     I10         1680         1668\n",
       "1   E78.5          778          687\n",
       "2  M19.90          526          505\n",
       "3   E11.9          174          238\n",
       "4     J45           91           96\n",
       "5   M81.0           18            9\n",
       "6  E78.00            9            7\n",
       "7   I21.9            2            6\n",
       "8  I25.10            2            3"
      ]
     },
     "execution_count": 15,
     "metadata": {},
     "output_type": "execute_result"
    }
   ],
   "source": [
    "wf_df = w_word_freq_df.merge(b_word_freq_df, how=\"inner\", on=\"word\")\n",
    "wf_df"
   ]
  },
  {
   "cell_type": "code",
   "execution_count": 16,
   "id": "c2684898-1c0b-48be-9e11-b0c495b68cf8",
   "metadata": {},
   "outputs": [
    {
     "data": {
      "text/html": [
       "<div>\n",
       "<style scoped>\n",
       "    .dataframe tbody tr th:only-of-type {\n",
       "        vertical-align: middle;\n",
       "    }\n",
       "\n",
       "    .dataframe tbody tr th {\n",
       "        vertical-align: top;\n",
       "    }\n",
       "\n",
       "    .dataframe thead th {\n",
       "        text-align: right;\n",
       "    }\n",
       "</style>\n",
       "<table border=\"1\" class=\"dataframe\">\n",
       "  <thead>\n",
       "    <tr style=\"text-align: right;\">\n",
       "      <th></th>\n",
       "      <th>word</th>\n",
       "      <th>w.frequency</th>\n",
       "      <th>b.frequency</th>\n",
       "      <th>w.frequency_pct</th>\n",
       "      <th>b.frequency_pct</th>\n",
       "      <th>frequency_pct_diff</th>\n",
       "      <th>frequency_pct_diff_abs</th>\n",
       "    </tr>\n",
       "  </thead>\n",
       "  <tbody>\n",
       "    <tr>\n",
       "      <th>3</th>\n",
       "      <td>E11.9</td>\n",
       "      <td>174</td>\n",
       "      <td>238</td>\n",
       "      <td>0.053049</td>\n",
       "      <td>0.073936</td>\n",
       "      <td>0.020887</td>\n",
       "      <td>0.020887</td>\n",
       "    </tr>\n",
       "    <tr>\n",
       "      <th>0</th>\n",
       "      <td>I10</td>\n",
       "      <td>1680</td>\n",
       "      <td>1668</td>\n",
       "      <td>0.512195</td>\n",
       "      <td>0.518173</td>\n",
       "      <td>0.005978</td>\n",
       "      <td>0.005978</td>\n",
       "    </tr>\n",
       "    <tr>\n",
       "      <th>4</th>\n",
       "      <td>J45</td>\n",
       "      <td>91</td>\n",
       "      <td>96</td>\n",
       "      <td>0.027744</td>\n",
       "      <td>0.029823</td>\n",
       "      <td>0.002079</td>\n",
       "      <td>0.002079</td>\n",
       "    </tr>\n",
       "    <tr>\n",
       "      <th>7</th>\n",
       "      <td>I21.9</td>\n",
       "      <td>2</td>\n",
       "      <td>6</td>\n",
       "      <td>0.000610</td>\n",
       "      <td>0.001864</td>\n",
       "      <td>0.001254</td>\n",
       "      <td>0.001254</td>\n",
       "    </tr>\n",
       "    <tr>\n",
       "      <th>8</th>\n",
       "      <td>I25.10</td>\n",
       "      <td>2</td>\n",
       "      <td>3</td>\n",
       "      <td>0.000610</td>\n",
       "      <td>0.000932</td>\n",
       "      <td>0.000322</td>\n",
       "      <td>0.000322</td>\n",
       "    </tr>\n",
       "    <tr>\n",
       "      <th>6</th>\n",
       "      <td>E78.00</td>\n",
       "      <td>9</td>\n",
       "      <td>7</td>\n",
       "      <td>0.002744</td>\n",
       "      <td>0.002175</td>\n",
       "      <td>-0.000569</td>\n",
       "      <td>0.000569</td>\n",
       "    </tr>\n",
       "    <tr>\n",
       "      <th>5</th>\n",
       "      <td>M81.0</td>\n",
       "      <td>18</td>\n",
       "      <td>9</td>\n",
       "      <td>0.005488</td>\n",
       "      <td>0.002796</td>\n",
       "      <td>-0.002692</td>\n",
       "      <td>0.002692</td>\n",
       "    </tr>\n",
       "    <tr>\n",
       "      <th>2</th>\n",
       "      <td>M19.90</td>\n",
       "      <td>526</td>\n",
       "      <td>505</td>\n",
       "      <td>0.160366</td>\n",
       "      <td>0.156881</td>\n",
       "      <td>-0.003485</td>\n",
       "      <td>0.003485</td>\n",
       "    </tr>\n",
       "    <tr>\n",
       "      <th>1</th>\n",
       "      <td>E78.5</td>\n",
       "      <td>778</td>\n",
       "      <td>687</td>\n",
       "      <td>0.237195</td>\n",
       "      <td>0.213420</td>\n",
       "      <td>-0.023775</td>\n",
       "      <td>0.023775</td>\n",
       "    </tr>\n",
       "  </tbody>\n",
       "</table>\n",
       "</div>"
      ],
      "text/plain": [
       "     word  w.frequency  b.frequency  w.frequency_pct  b.frequency_pct  \\\n",
       "3   E11.9          174          238         0.053049         0.073936   \n",
       "0     I10         1680         1668         0.512195         0.518173   \n",
       "4     J45           91           96         0.027744         0.029823   \n",
       "7   I21.9            2            6         0.000610         0.001864   \n",
       "8  I25.10            2            3         0.000610         0.000932   \n",
       "6  E78.00            9            7         0.002744         0.002175   \n",
       "5   M81.0           18            9         0.005488         0.002796   \n",
       "2  M19.90          526          505         0.160366         0.156881   \n",
       "1   E78.5          778          687         0.237195         0.213420   \n",
       "\n",
       "   frequency_pct_diff  frequency_pct_diff_abs  \n",
       "3            0.020887                0.020887  \n",
       "0            0.005978                0.005978  \n",
       "4            0.002079                0.002079  \n",
       "7            0.001254                0.001254  \n",
       "8            0.000322                0.000322  \n",
       "6           -0.000569                0.000569  \n",
       "5           -0.002692                0.002692  \n",
       "2           -0.003485                0.003485  \n",
       "1           -0.023775                0.023775  "
      ]
     },
     "execution_count": 16,
     "metadata": {},
     "output_type": "execute_result"
    }
   ],
   "source": [
    "wf_df[\"w.frequency_pct\"] = wf_df[\"w.frequency\"] / wf_df[\"w.frequency\"].sum()\n",
    "wf_df[\"b.frequency_pct\"] = wf_df[\"b.frequency\"] / wf_df[\"b.frequency\"].sum()\n",
    "wf_df[\"frequency_pct_diff\"] = wf_df[\"b.frequency_pct\"] - wf_df[\"w.frequency_pct\"]\n",
    "wf_df[\"frequency_pct_diff_abs\"] = wf_df[\"frequency_pct_diff\"].abs()\n",
    "# Sort by largest values in absolue difference\n",
    "wf_df.sort_values(by=\"frequency_pct_diff\", ascending=False).head(25)"
   ]
  },
  {
   "cell_type": "code",
   "execution_count": 17,
   "id": "52a3f756-31d6-46cb-8d8c-694096cfa1e6",
   "metadata": {},
   "outputs": [],
   "source": [
    "# First order frequencies by magnitude of difference (absolute value), take the top 200 words with the greatest difference,\n",
    "# then re-sort by actual difference so when we plot the values will be sequential from smallest to largest bars\n",
    "most = (\n",
    "    wf_df.sort_values(by=\"frequency_pct_diff_abs\", ascending=False)\n",
    "    .head(200)\n",
    "    .sort_values(by=\"frequency_pct_diff\", ascending=False)\n",
    ")\n",
    "\n",
    "chart_data = {}\n",
    "\n",
    "# Create a map with the word as the frequency, and the magnitude vector as the value\\\n",
    "# a vector of [0, n] will plot a blue bar\n",
    "# a vector of [n, 0] will plot an orange bar\n",
    "# a vector with a negative n [-n, 0] will plot a bar on the left\n",
    "# a vector with a positive n [n, 0] will plot a bar on the right\n",
    "# {\"word\": [-1, 0]} will plot an orange bar for \"word\" on the left of 0 with length 1\n",
    "# {\"word\": [0, 0.5]} will plot a blue bar for \"word\" on the right of 0 with length 0.5\n",
    "# in order to generate a good Positive Negative bar chart, we assign b freq to the left side (negative)\n",
    "# and w freq to the right side (positive)\n",
    "for row in most.iterrows():\n",
    "    if row[1][\"w.frequency_pct\"] > row[1][\"b.frequency_pct\"]:\n",
    "        # orange bars\n",
    "        chart_data[row[1][\"word\"]] = [\n",
    "            row[1][\"w.frequency_pct\"] - row[1][\"b.frequency_pct\"],\n",
    "            0,\n",
    "        ]\n",
    "    else:\n",
    "        # blue bars\n",
    "        chart_data[row[1][\"word\"]] = [\n",
    "            0,\n",
    "            -(row[1][\"b.frequency_pct\"] - row[1][\"w.frequency_pct\"]),\n",
    "        ]"
   ]
  },
  {
   "cell_type": "code",
   "execution_count": 18,
   "id": "91aa3915-fff5-43bb-8d77-a3435adaef4a",
   "metadata": {},
   "outputs": [
    {
     "data": {
      "image/png": "[encoded data removed]",
      "text/plain": [
       "<Figure size 1500x5000 with 1 Axes>"
      ]
     },
     "metadata": {},
     "output_type": "display_data"
    }
   ],
   "source": [
    "# Positive Negative Bar Chart to better visualize where word frequencies diverge between data sets\n",
    "# Based on https://stackoverflow.com/a/69976552/11407943\n",
    "import numpy as np\n",
    "import matplotlib.pyplot as plt\n",
    "\n",
    "\n",
    "category_names = [\"white-or-caucasian\", \"black-or-african-american\"]\n",
    "results = chart_data\n",
    "\n",
    "\n",
    "def survey(results, category_names):\n",
    "    \"\"\"\n",
    "    Parameters\n",
    "    ----------\n",
    "    results : dict\n",
    "        A mapping from question labels to a list of answers per category.\n",
    "        It is assumed all lists contain the same number of entries and that\n",
    "        it matches the length of *category_names*. The order is assumed\n",
    "        to be from 'Strongly disagree' to 'Strongly aisagree'\n",
    "    category_names : list of str\n",
    "        The category labels.\n",
    "    \"\"\"\n",
    "\n",
    "    labels = list(map(lambda i: ICD_TO_TEXT_MAP.get(i), results.keys()))\n",
    "    data = np.array(list(results.values()))\n",
    "    data_cum = data.cumsum(axis=1)\n",
    "    middle_index = data.shape[1] // 2\n",
    "    offsets = 0  # data[:, range(middle_index)].sum(axis=1) # + data[:, middle_index]/2\n",
    "\n",
    "    # Color Mapping\n",
    "    category_colors = plt.get_cmap(\"coolwarm_r\")(np.linspace(0.15, 0.85, data.shape[1]))\n",
    "\n",
    "    fig, ax = plt.subplots(figsize=(15, 50))\n",
    "\n",
    "    # Plot Bars\n",
    "    for i, (colname, color) in enumerate(zip(category_names, category_colors)):\n",
    "        widths = data[:, i]\n",
    "        starts = data_cum[:, i] - widths - offsets\n",
    "        rects = ax.barh(\n",
    "            labels, widths, left=starts, height=0.5, label=colname, color=color\n",
    "        )\n",
    "\n",
    "    # Add Zero Reference Line\n",
    "    ax.axvline(0, linestyle=\"--\", color=\"black\", alpha=0.25)\n",
    "\n",
    "    # X Axis\n",
    "    # ax.set_xlim(-0.006, 0.006)\n",
    "    # ax.set_xticks(np.arange(-0.0035, 0.0035, 0.003))\n",
    "    ax.xaxis.set_major_formatter(lambda x, pos: str(x))\n",
    "\n",
    "    # Y Axis\n",
    "    ax.invert_yaxis()\n",
    "\n",
    "    # Remove spines\n",
    "    ax.spines[\"right\"].set_visible(False)\n",
    "    ax.spines[\"top\"].set_visible(False)\n",
    "    ax.spines[\"left\"].set_visible(False)\n",
    "\n",
    "    # Ledgend\n",
    "    ax.legend(\n",
    "        ncol=len(category_names),\n",
    "        bbox_to_anchor=(0, 0.99),\n",
    "        loc=\"lower left\",\n",
    "        fontsize=\"small\",\n",
    "    )\n",
    "\n",
    "    # Set Background Color\n",
    "    fig.set_facecolor(\"#FFFFFF\")\n",
    "\n",
    "    return fig, ax\n",
    "\n",
    "\n",
    "fig, ax = survey(results, category_names)\n",
    "plt.title(\n",
    "    \"Words with the largest differences in document frequencies between the 'Black-or-African-American' and 'White-or-Caucasian' corpuses\"\n",
    ")\n",
    "plt.show()"
   ]
  },
  {
   "cell_type": "code",
   "execution_count": 19,
   "id": "a7a7ffd4-57de-46a0-bd17-e7a7940b3b33",
   "metadata": {},
   "outputs": [],
   "source": [
    "import scipy\n",
    "from sklearn.feature_extraction import text\n",
    "from collections import Counter"
   ]
  },
  {
   "cell_type": "code",
   "execution_count": 20,
   "id": "a9c02dee-dcf2-4dbd-8e13-0717850f42cf",
   "metadata": {},
   "outputs": [],
   "source": [
    "b_just_names_lower = [\n",
    "    list(map(lambda x: ICD_TO_TEXT_MAP.get(x), arr)) for arr in b_just_names\n",
    "]\n",
    "b_list_of_doc_counter = list(map(Counter, b_just_names_lower))\n",
    "# element for sublist in w_just_names for element in sublist\n",
    "w_just_names_lower = [\n",
    "    list(map(lambda x: ICD_TO_TEXT_MAP.get(x), arr)) for arr in w_just_names\n",
    "]\n",
    "w_list_of_doc_counter = list(map(Counter, w_just_names_lower))\n",
    "b_conditions_names_counter = Counter(\n",
    "    [element for sublist in b_just_names_lower for element in sublist]\n",
    ")\n",
    "w_conditions_names_counter = Counter(\n",
    "    [element for sublist in w_just_names_lower for element in sublist]\n",
    ")"
   ]
  },
  {
   "cell_type": "code",
   "execution_count": 21,
   "id": "14913c19-ca56-4358-8baa-498b3934d440",
   "metadata": {},
   "outputs": [
    {
     "data": {
      "text/plain": [
       "Counter({'hypertension': 1668,\n",
       "         'hyperlipidemia': 687,\n",
       "         'osteoarthritis': 505,\n",
       "         'type ii diabetes mellitus': 238,\n",
       "         'asthma': 96,\n",
       "         'osteoporosis': 9,\n",
       "         'hypercholesterolemia': 7,\n",
       "         'myocardial infarction': 6,\n",
       "         'coronary artery disease': 3})"
      ]
     },
     "execution_count": 21,
     "metadata": {},
     "output_type": "execute_result"
    }
   ],
   "source": [
    "b_conditions_names_counter"
   ]
  },
  {
   "cell_type": "code",
   "execution_count": 22,
   "id": "9d17488b-bf7f-4b41-92f5-828966d03e64",
   "metadata": {},
   "outputs": [
    {
     "data": {
      "text/plain": [
       "Counter({'hypertension': 1680,\n",
       "         'hyperlipidemia': 778,\n",
       "         'osteoarthritis': 526,\n",
       "         'type ii diabetes mellitus': 174,\n",
       "         'asthma': 91,\n",
       "         'osteoporosis': 18,\n",
       "         'hypercholesterolemia': 9,\n",
       "         'gastroesophageal reflux disease ': 5,\n",
       "         'myocardial infarction': 2,\n",
       "         'coronary artery disease': 2})"
      ]
     },
     "execution_count": 22,
     "metadata": {},
     "output_type": "execute_result"
    }
   ],
   "source": [
    "w_conditions_names_counter"
   ]
  },
  {
   "cell_type": "code",
   "execution_count": 23,
   "id": "cd462fcb-effd-43cd-a8a8-4d000189e2c6",
   "metadata": {},
   "outputs": [
    {
     "data": {
      "text/html": [
       "<div>\n",
       "<style scoped>\n",
       "    .dataframe tbody tr th:only-of-type {\n",
       "        vertical-align: middle;\n",
       "    }\n",
       "\n",
       "    .dataframe tbody tr th {\n",
       "        vertical-align: top;\n",
       "    }\n",
       "\n",
       "    .dataframe thead th {\n",
       "        text-align: right;\n",
       "    }\n",
       "</style>\n",
       "<table border=\"1\" class=\"dataframe\">\n",
       "  <thead>\n",
       "    <tr style=\"text-align: right;\">\n",
       "      <th></th>\n",
       "      <th>hypertension</th>\n",
       "      <th>gastroesophageal reflux disease</th>\n",
       "      <th>myocardial infarction</th>\n",
       "      <th>osteoporosis</th>\n",
       "      <th>type ii diabetes mellitus</th>\n",
       "      <th>asthma</th>\n",
       "      <th>osteoarthritis</th>\n",
       "      <th>coronary artery disease</th>\n",
       "      <th>hyperlipidemia</th>\n",
       "      <th>hypercholesterolemia</th>\n",
       "    </tr>\n",
       "  </thead>\n",
       "  <tbody>\n",
       "    <tr>\n",
       "      <th>b.freq</th>\n",
       "      <td>1668</td>\n",
       "      <td>0</td>\n",
       "      <td>6</td>\n",
       "      <td>9</td>\n",
       "      <td>238</td>\n",
       "      <td>96</td>\n",
       "      <td>505</td>\n",
       "      <td>3</td>\n",
       "      <td>687</td>\n",
       "      <td>7</td>\n",
       "    </tr>\n",
       "    <tr>\n",
       "      <th>w.freq</th>\n",
       "      <td>1680</td>\n",
       "      <td>5</td>\n",
       "      <td>2</td>\n",
       "      <td>18</td>\n",
       "      <td>174</td>\n",
       "      <td>91</td>\n",
       "      <td>526</td>\n",
       "      <td>2</td>\n",
       "      <td>778</td>\n",
       "      <td>9</td>\n",
       "    </tr>\n",
       "  </tbody>\n",
       "</table>\n",
       "</div>"
      ],
      "text/plain": [
       "        hypertension  gastroesophageal reflux disease   myocardial infarction  \\\n",
       "b.freq          1668                                 0                      6   \n",
       "w.freq          1680                                 5                      2   \n",
       "\n",
       "        osteoporosis  type ii diabetes mellitus  asthma  osteoarthritis  \\\n",
       "b.freq             9                        238      96             505   \n",
       "w.freq            18                        174      91             526   \n",
       "\n",
       "        coronary artery disease  hyperlipidemia  hypercholesterolemia  \n",
       "b.freq                        3             687                     7  \n",
       "w.freq                        2             778                     9  "
      ]
     },
     "execution_count": 23,
     "metadata": {},
     "output_type": "execute_result"
    }
   ],
   "source": [
    "total_keys = list(\n",
    "    set(\n",
    "        list(w_conditions_names_counter.keys())\n",
    "        + list(b_conditions_names_counter.keys())\n",
    "    )\n",
    ")\n",
    "new_counts = {}\n",
    "aa = []\n",
    "ca = []\n",
    "for k in total_keys:\n",
    "    # [aa,ca]\n",
    "    new_counts[k] = [\n",
    "        b_conditions_names_counter.get(k, 0),\n",
    "        w_conditions_names_counter.get(k, 0),\n",
    "    ]\n",
    "    aa.append(b_conditions_names_counter.get(k, 0))\n",
    "    ca.append(w_conditions_names_counter.get(k, 0))\n",
    "\n",
    "c_table = pd.DataFrame.from_dict(new_counts)\n",
    "c_table.rename(index={0: \"b.freq\"}, inplace=True)\n",
    "c_table.rename(index={1: \"w.freq\"}, inplace=True)\n",
    "c_table"
   ]
  },
  {
   "cell_type": "code",
   "execution_count": 24,
   "id": "0cc3b8ac-cb67-4ad5-896b-e09e67dd243f",
   "metadata": {},
   "outputs": [],
   "source": [
    "class bcolors:\n",
    "    HEADER = \"\\033[95m\"\n",
    "    OKBLUE = \"\\033[94m\"\n",
    "    OKCYAN = \"\\033[96m\"\n",
    "    OKGREEN = \"\\033[92m\"\n",
    "    WARNING = \"\\033[93m\"\n",
    "    FAIL = \"\\033[91m\"\n",
    "    ENDC = \"\\033[0m\"\n",
    "    BOLD = \"\\033[1m\"\n",
    "    UNDERLINE = \"\\033[4m\""
   ]
  },
  {
   "cell_type": "code",
   "execution_count": 25,
   "id": "be787840-869d-46e5-bc2e-1d757099704f",
   "metadata": {},
   "outputs": [
    {
     "name": "stdout",
     "output_type": "stream",
     "text": [
      "\u001b[1mCondition: type ii diabetes mellitus\u001b[0m\n",
      "    W   ^W\n",
      "AA: [238, 2981]\n",
      "CA: [174, 3111]\n",
      "There \u001b[92mis a significant difference\u001b[0m in the prevalence of the condition \"type ii diabetes mellitus\" between the groups with a p-value of \u001b[92m0.001\u001b[0m\n",
      "\n",
      "\u001b[1mCondition: hyperlipidemia\u001b[0m\n",
      "    W   ^W\n",
      "AA: [687, 2532]\n",
      "CA: [778, 2507]\n",
      "There \u001b[92mis a significant difference\u001b[0m in the prevalence of the condition \"hyperlipidemia\" between the groups with a p-value of \u001b[92m0.026\u001b[0m\n",
      "\n"
     ]
    }
   ],
   "source": [
    "sig_results = []\n",
    "# Chi square independence test\n",
    "# https://www.dir.uniupo.it/pluginfile.php/138296/mod_resource/content/0/22-colloc-bw.pdf\n",
    "for k in list(set(total_keys)):\n",
    "    # For AA [Number of instances of current word, Number of instances of all other words]\n",
    "    x1 = [c_table[k].iloc[0], c_table.iloc[0].sum() - c_table[k].iloc[0]]\n",
    "    # For CA [Number of instances of current word, Number of instances of all other words]\n",
    "    y1 = [c_table[k].iloc[1], c_table.iloc[1].sum() - c_table[k].iloc[1]]\n",
    "    test = scipy.stats.chi2_contingency([x1, y1])\n",
    "    word = c_table[k].name\n",
    "    if test.pvalue < 0.05:\n",
    "        sig_results.append(word)\n",
    "        print(f\"{bcolors.BOLD}Condition: {k}{bcolors.ENDC}\")\n",
    "        print(f\"    W   ^W\")\n",
    "        print(f\"AA: {x1}\")\n",
    "        print(f\"CA: {y1}\")\n",
    "        print(\n",
    "            f'There {bcolors.OKGREEN}is a significant difference{bcolors.ENDC} in the prevalence of the condition \"{word}\" between the groups with a p-value of {bcolors.OKGREEN +\"{:0.3f}\".format(test.pvalue) + bcolors.ENDC}'\n",
    "        )\n",
    "        print(f\"\")\n",
    "if len(sig_results) == 0:\n",
    "    print(\n",
    "        f\"{bcolors.BOLD}{bcolors.FAIL}No significant differences in any conditions between groups found{bcolors.ENDC}\"\n",
    "    )"
   ]
  }
 ],
 "metadata": {
  "kernelspec": {
   "display_name": "Python 3 (ipykernel)",
   "language": "python",
   "name": "python3"
  },
  "language_info": {
   "codemirror_mode": {
    "name": "ipython",
    "version": 3
   },
   "file_extension": ".py",
   "mimetype": "text/x-python",
   "name": "python",
   "nbconvert_exporter": "python",
   "pygments_lexer": "ipython3",
   "version": "3.11.3"
  }
 },
 "nbformat": 4,
 "nbformat_minor": 5
}
