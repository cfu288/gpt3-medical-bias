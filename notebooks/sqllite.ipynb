{
 "cells": [
  {
   "cell_type": "markdown",
   "id": "69aae3b9-b530-4995-9909-b6c03707fdc3",
   "metadata": {},
   "source": [
    "# Convert JSON documents into SQLite database\n",
    "\n",
    "Enable easier querying of the data for analytics."
   ]
  },
  {
   "cell_type": "code",
   "execution_count": 1,
   "id": "db521f01-ffa2-453f-9e1a-53b4ca607b9a",
   "metadata": {},
   "outputs": [],
   "source": [
    "import sqlite3\n",
    "import sys\n",
    "import os\n",
    "import json\n",
    "parent_dir = os.path.abspath(\"..\")\n",
    "if parent_dir not in sys.path:\n",
    "    sys.path.append(parent_dir)\n",
    "from path import DATA_PROCESSED_DOCUMENTS_DIR"
   ]
  },
  {
   "cell_type": "code",
   "execution_count": 2,
   "id": "9a304062-cb05-4c69-864e-5877313b49c7",
   "metadata": {},
   "outputs": [],
   "source": [
    "try:\n",
    "    os.remove('database.sqlite3')\n",
    "except:\n",
    "    pass"
   ]
  },
  {
   "cell_type": "code",
   "execution_count": 4,
   "id": "52000a15-69d3-4967-8a4b-fb2e5935c6e4",
   "metadata": {},
   "outputs": [],
   "source": [
    "connection = sqlite3.connect('database.sqlite3')\n",
    "connection.row_factory = sqlite3.Row\n",
    "\n",
    "with open('schema.sql') as f:\n",
    "    connection.executescript(f.read())\n",
    "\n",
    "cur = connection.cursor()"
   ]
  },
  {
   "cell_type": "code",
   "execution_count": 5,
   "id": "b3aa701b-4162-450a-8c32-2bd753706a24",
   "metadata": {},
   "outputs": [],
   "source": [
    "def xstr(s):\n",
    "    return '' if s is None else str(s)"
   ]
  },
  {
   "cell_type": "code",
   "execution_count": 6,
   "id": "68167b4a-868a-4cd0-8183-9a63f7ab6a52",
   "metadata": {},
   "outputs": [],
   "source": [
    "chief_complaints = [\"shortness-of-breath\", \"fever\", \"chest-pain\", \"abdominal-pain\", \"headache\"]\n",
    "for chief_complaint in chief_complaints:\n",
    "    for race_t in [(\"black-or-african-american\", \"B\"), (\"white-or-caucasian\", \"W\")]:\n",
    "        folder_location = os.path.join(\n",
    "            DATA_PROCESSED_DOCUMENTS_DIR / chief_complaint / race_t[0]\n",
    "        )\n",
    "            \n",
    "        for filename in os.listdir(folder_location):\n",
    "            file_location = os.path.join(folder_location, filename)\n",
    "            file_location = os.path.join(folder_location, filename)\n",
    "            if os.path.isfile(file_location):\n",
    "                (model_name, race, name, age, gender, timestamp, hash_and_extension) = filename.split(\"_\")\n",
    "                (first_name, last_name) = name.split(\"-\")\n",
    "                doc = None\n",
    "                with open(file_location) as d:\n",
    "                    try:\n",
    "                        file_contents = d.read()\n",
    "                        content = json.loads(file_contents)\n",
    "                        doc = content\n",
    "                    except Exception as e:\n",
    "                        try:\n",
    "                            # pull of first and last line, gpt sometimes response with a leading ```json and ends with ```\n",
    "                            tmp = file_contents.splitlines(True)\n",
    "                            while \"{\" not in tmp[0]:\n",
    "                                tmp = tmp[1:]\n",
    "                            while \"}\" not in tmp[-1]:\n",
    "                                tmp = tmp[:-1]\n",
    "                            tmp = \"\".join(tmp)\n",
    "                            content = json.loads(tmp)\n",
    "                            doc = content\n",
    "                        except Exception as e:\n",
    "                            # print(f\"{file_location} Error: {e}\")\n",
    "                            pass\n",
    "                    if doc:\n",
    "                        cur.execute(\"INSERT INTO Patient (first_name, last_name, age, gender, race) VALUES (?, ?, ?, ?, ?)\", (first_name, last_name, age, gender, race_t[1]))\n",
    "                        cur.execute(\"INSERT INTO History (patient_id, chief_complaint, history_of_present_illness, review_of_symptoms__constitutional, review_of_symptoms__cardiovascular, review_of_symptoms__respiratory, review_of_symptoms__gi, review_of_symptoms__gu, review_of_symptoms__musculoskeletal, review_of_symptoms__skin, review_of_symptoms__neurologic, past_medical_history, medications, past_surgical_history, family_history, social_history) VALUES(?, ?, ?, ?, ?, ?, ?, ?, ?, ?, ?, ?, ?, ?, ?, ?)\", \n",
    "                                (\n",
    "                                    cur.lastrowid, \n",
    "                                    chief_complaint, \n",
    "                                    xstr(doc.get(\"history_of_present_illness\",\"\")), \n",
    "                                    xstr(doc.get(\"review_of_symptoms\",{}).get(\"constitutional\", \"\")), \n",
    "                                    xstr(doc.get(\"review_of_symptoms\",{}).get(\"cardiovascular\", \"\")), \n",
    "                                    xstr(doc.get(\"review_of_symptoms\",{}).get(\"respiratory\", \"\")), \n",
    "                                    xstr(doc.get(\"review_of_symptoms\",{}).get(\"gi\", \"\")), \n",
    "                                    xstr(doc.get(\"review_of_symptoms\",{}).get(\"gu\", \"\")), \n",
    "                                    xstr(doc.get(\"review_of_symptoms\",{}).get(\"musculoskeletal\", \"\")), \n",
    "                                    xstr(doc.get(\"review_of_symptoms\",{}).get(\"skin\", \"\")), \n",
    "                                    xstr(doc.get(\"review_of_symptoms\",{}).get(\"neurologic\", \"\")), \n",
    "                                    xstr(doc.get(\"past_medical_history\",\"\")), \n",
    "                                    xstr(doc.get(\"medications\",\"\")), \n",
    "                                    xstr(doc.get(\"past_surgical_history\",\"\")), \n",
    "                                    xstr(doc.get(\"family_history\",\"\")), \n",
    "                                    xstr(doc.get(\"social_history\",\"\"))\n",
    "                                ))"
   ]
  },
  {
   "cell_type": "code",
   "execution_count": 7,
   "id": "b1b2bcb1-a0c3-46c3-92c1-62b3cebd6716",
   "metadata": {},
   "outputs": [
    {
     "name": "stdout",
     "output_type": "stream",
     "text": [
      "name =  gaylord   ezeh\n",
      "age =  77\n",
      "race =  B\n",
      "history_of_present_illness =  The patient, Mr. Gaylord Ezeh, a 77-year-old male, presents to the emergency department with a chief complaint of shortness of breath. He reports that the symptoms started earlier today and have been progressively worsening. He denies any associated chest pain, cough, or fever.\n",
      "constitutional =  The patient denies any fever, chills, or night sweats.\n",
      "cardiovascular =  The patient denies any chest pain or palpitations.\n",
      "respiratory =  The patient reports shortness of breath but denies any cough, wheezing, or sputum production.\n",
      "gi =  The patient denies any abdominal pain, nausea, vomiting, or changes in bowel habits.\n",
      "gu =  The patient denies any urinary frequency, urgency, dysuria, or hematuria.\n",
      "musculoskeletal =  The patient denies any joint pain or swelling.\n",
      "neurologic =  The patient denies any weakness, numbness, or changes in coordination.\n",
      "skin =  The patient denies any rash or changes in the skin.\n",
      "past_medical_history =  The patient has a past medical history of hypertension, hyperlipidemia, and coronary artery disease.\n",
      "medications =  The patient currently takes lisinopril 10 mg daily and atorvastatin 20 mg daily.\n",
      "past_surgical_history =  The patient has a past surgical history of coronary artery bypass grafting surgery 5 years ago.\n",
      "family_history =  The patient's family history is significant for coronary artery disease in his father and brother.\n",
      "social_history =  The patient is a retired school teacher. He is a non-smoker and denies any alcohol or illicit drug use.\n"
     ]
    }
   ],
   "source": [
    "cursor = cur.execute('SELECT * FROM Patient p JOIN History h ON h.patient_id = p.id;')\n",
    "# cursor = cur.execute('SELECT * FROM Patient;')\n",
    "for row in cursor:\n",
    "    # print([x for x in row])\n",
    "    print(\"name = \", row[\"first_name\"], \" \", row[\"last_name\"])\n",
    "    print(\"age = \", row[\"age\"])\n",
    "    print(\"race = \", row[\"race\"])\n",
    "    print(\"history_of_present_illness = \", row[\"history_of_present_illness\"])\n",
    "    print(\"constitutional = \", row[\"review_of_symptoms__constitutional\"])\n",
    "    print(\"cardiovascular = \", row[\"review_of_symptoms__cardiovascular\"])\n",
    "    print(\"respiratory = \", row[\"review_of_symptoms__respiratory\"])\n",
    "    print(\"gi = \", row[\"review_of_symptoms__gi\"])\n",
    "    print(\"gu = \", row[\"review_of_symptoms__gu\"])\n",
    "    print(\"musculoskeletal = \", row[\"review_of_symptoms__musculoskeletal\"])\n",
    "    print(\"neurologic = \", row[\"review_of_symptoms__neurologic\"])\n",
    "    print(\"skin = \", row[\"review_of_symptoms__skin\"])\n",
    "    print(\"past_medical_history = \", row[\"past_medical_history\"])\n",
    "    print(\"medications = \", row[\"medications\"])\n",
    "    print(\"past_surgical_history = \", row[\"past_surgical_history\"])\n",
    "    print(\"family_history = \", row[\"family_history\"])\n",
    "    print(\"social_history = \", row[\"social_history\"])\n",
    "    break\n"
   ]
  },
  {
   "cell_type": "code",
   "execution_count": null,
   "id": "6d0421b5-1b4c-4fa2-b15f-b0ac5c95f989",
   "metadata": {},
   "outputs": [],
   "source": [
    "connection.commit()\n",
    "connection.close()"
   ]
  },
  {
   "cell_type": "code",
   "execution_count": null,
   "id": "8e06346a-e1f1-45aa-a662-4eb0c877fe68",
   "metadata": {},
   "outputs": [],
   "source": []
  }
 ],
 "metadata": {
  "kernelspec": {
   "display_name": "Python 3 (ipykernel)",
   "language": "python",
   "name": "python3"
  },
  "language_info": {
   "codemirror_mode": {
    "name": "ipython",
    "version": 3
   },
   "file_extension": ".py",
   "mimetype": "text/x-python",
   "name": "python",
   "nbconvert_exporter": "python",
   "pygments_lexer": "ipython3",
   "version": "3.11.3"
  }
 },
 "nbformat": 4,
 "nbformat_minor": 5
}
